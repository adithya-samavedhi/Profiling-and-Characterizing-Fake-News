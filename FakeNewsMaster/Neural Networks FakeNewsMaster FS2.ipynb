{
 "cells": [
  {
   "cell_type": "code",
   "execution_count": 1,
   "metadata": {},
   "outputs": [
    {
     "name": "stderr",
     "output_type": "stream",
     "text": [
      "C:\\Users\\adith\\anaconda3\\envs\\ANZ\\lib\\site-packages\\h5py\\__init__.py:34: FutureWarning: Conversion of the second argument of issubdtype from `float` to `np.floating` is deprecated. In future, it will be treated as `np.float64 == np.dtype(float).type`.\n",
      "  from ._conv import register_converters as _register_converters\n",
      "Using TensorFlow backend.\n"
     ]
    }
   ],
   "source": [
    "from keras.models import Sequential \n",
    "from keras.layers import Dense \n",
    "from keras.utils import np_utils\n",
    "from sklearn.preprocessing import LabelEncoder\n",
    "from keras.utils.np_utils import to_categorical\n",
    "from sklearn.utils import shuffle\n",
    "import pandas as pd\n",
    "import numpy as np\n",
    "import matplotlib.pyplot as plt\n",
    "from sklearn import preprocessing, model_selection\n",
    "from sklearn.preprocessing import StandardScaler"
   ]
  },
  {
   "cell_type": "code",
   "execution_count": 2,
   "metadata": {},
   "outputs": [],
   "source": [
    "features = pd.read_csv('FakeNewsMaster-FS-nodup.csv')\n",
    "features.fillna(0,inplace=True)"
   ]
  },
  {
   "cell_type": "code",
   "execution_count": 3,
   "metadata": {},
   "outputs": [
    {
     "data": {
      "text/plain": [
       "['TF',\n",
       " 'Bigram TF',\n",
       " 'No. of Stop_words',\n",
       " 'Out of Context',\n",
       " 'Arts, Culture, Entertainment, Sports',\n",
       " 'Conspiracy',\n",
       " 'Business and Industrial',\n",
       " 'economy, business and finance',\n",
       " 'Religion and belief',\n",
       " 'Law, Government and Politics',\n",
       " 'Education',\n",
       " 'Technology and Computing',\n",
       " 'Science',\n",
       " 'Sixltr',\n",
       " 'conj',\n",
       " 'interrog',\n",
       " 'number',\n",
       " 'negemo',\n",
       " 'social',\n",
       " 'certain',\n",
       " 'percept',\n",
       " 'focuspast',\n",
       " 'focuspresent',\n",
       " 'time',\n",
       " 'PERSON',\n",
       " 'TIME',\n",
       " 'ORG',\n",
       " 'GPE']"
      ]
     },
     "execution_count": 3,
     "metadata": {},
     "output_type": "execute_result"
    }
   ],
   "source": [
    "list(features.columns)"
   ]
  },
  {
   "cell_type": "code",
   "execution_count": 4,
   "metadata": {},
   "outputs": [
    {
     "data": {
      "text/plain": [
       "['id',\n",
       " 'url',\n",
       " 'title',\n",
       " 'tweet_id',\n",
       " 'text',\n",
       " 'date',\n",
       " 'grammatical errors',\n",
       " 'Label',\n",
       " 'Clean_text',\n",
       " 'TF_temp',\n",
       " 'TF',\n",
       " 'Bigram TF_temp',\n",
       " 'Bigram TF',\n",
       " 'No. of Stop_words',\n",
       " 'Out of Context temp',\n",
       " 'Out of Context',\n",
       " 'Textrazor_category',\n",
       " 'Textrazor_topic',\n",
       " 'Topics_category',\n",
       " 'Topics_topic',\n",
       " 'score_category',\n",
       " 'score_topic',\n",
       " 'category_score_final',\n",
       " 'category_list_final',\n",
       " 'topic_score_final',\n",
       " 'topic_list_final',\n",
       " 'arts, culture and entertainment',\n",
       " 'Conspiracy',\n",
       " 'crime, law and justice',\n",
       " 'Criticism of journalism',\n",
       " 'Advertising video on demand',\n",
       " 'computing and information technology',\n",
       " 'agriculture',\n",
       " 'energy and resource',\n",
       " 'economy, business and finance',\n",
       " 'Harassment',\n",
       " 'Cyberspace',\n",
       " 'religion and belief',\n",
       " 'Politics and technology',\n",
       " 'Social media',\n",
       " 'science and technology',\n",
       " 'Social epistemology',\n",
       " 'social issue',\n",
       " 'environmental issue',\n",
       " 'Academia',\n",
       " 'Attacks',\n",
       " 'Feminism',\n",
       " 'Sports',\n",
       " 'Internet-Cyberspace',\n",
       " 'Science',\n",
       " 'Sixltr',\n",
       " 'conj',\n",
       " 'interrog',\n",
       " 'number',\n",
       " 'negemo',\n",
       " 'social',\n",
       " 'certain',\n",
       " 'percept',\n",
       " 'focuspast',\n",
       " 'focuspresent',\n",
       " 'time',\n",
       " 'Arts, Culture, Entertainment, Sports',\n",
       " 'Business and Industrial',\n",
       " 'Law, Government and Politics',\n",
       " 'religion & social epistemology']"
      ]
     },
     "execution_count": 4,
     "metadata": {},
     "output_type": "execute_result"
    }
   ],
   "source": [
    "df= pd.read_pickle('FakeNewsMaster-dup.pkl')\n",
    "list(df.columns)"
   ]
  },
  {
   "cell_type": "code",
   "execution_count": 5,
   "metadata": {},
   "outputs": [
    {
     "name": "stdout",
     "output_type": "stream",
     "text": [
      "<class 'pandas.core.frame.DataFrame'>\n",
      "RangeIndex: 17934 entries, 0 to 17933\n",
      "Data columns (total 28 columns):\n",
      "TF                                      17934 non-null int64\n",
      "Bigram TF                               17934 non-null int64\n",
      "No. of Stop_words                       17934 non-null float64\n",
      "Out of Context                          17934 non-null int64\n",
      "Arts, Culture, Entertainment, Sports    17934 non-null float64\n",
      "Conspiracy                              17934 non-null float64\n",
      "Business and Industrial                 17934 non-null float64\n",
      "economy, business and finance           17934 non-null float64\n",
      "Religion and belief                     17934 non-null float64\n",
      "Law, Government and Politics            17934 non-null float64\n",
      "Education                               17934 non-null float64\n",
      "Technology and Computing                17934 non-null float64\n",
      "Science                                 17934 non-null float64\n",
      "Sixltr                                  17934 non-null float64\n",
      "conj                                    17934 non-null float64\n",
      "interrog                                17934 non-null float64\n",
      "number                                  17934 non-null float64\n",
      "negemo                                  17934 non-null float64\n",
      "social                                  17934 non-null float64\n",
      "certain                                 17934 non-null float64\n",
      "percept                                 17934 non-null float64\n",
      "focuspast                               17934 non-null float64\n",
      "focuspresent                            17934 non-null float64\n",
      "time                                    17934 non-null float64\n",
      "PERSON                                  17934 non-null float64\n",
      "TIME                                    17934 non-null float64\n",
      "ORG                                     17934 non-null float64\n",
      "GPE                                     17934 non-null float64\n",
      "dtypes: float64(25), int64(3)\n",
      "memory usage: 3.8 MB\n"
     ]
    }
   ],
   "source": [
    "features.info()"
   ]
  },
  {
   "cell_type": "code",
   "execution_count": 6,
   "metadata": {},
   "outputs": [
    {
     "data": {
      "text/plain": [
       "1    13768\n",
       "0     4166\n",
       "Name: Label, dtype: int64"
      ]
     },
     "execution_count": 6,
     "metadata": {},
     "output_type": "execute_result"
    }
   ],
   "source": [
    "df['Label'].value_counts()"
   ]
  },
  {
   "cell_type": "code",
   "execution_count": 7,
   "metadata": {},
   "outputs": [],
   "source": [
    "X=features.loc[:,['TF','Bigram TF','No. of Stop_words', 'Out of Context', 'Religion and belief', 'Law, Government and Politics',\n",
    " 'Sixltr', 'conj', 'interrog', 'number', 'negemo', 'social', 'certain', 'percept', 'focuspast', 'focuspresent', 'time','PERSON','ORG','TIME','GPE']]"
   ]
  },
  {
   "cell_type": "code",
   "execution_count": 8,
   "metadata": {},
   "outputs": [
    {
     "data": {
      "text/html": [
       "<div>\n",
       "<style scoped>\n",
       "    .dataframe tbody tr th:only-of-type {\n",
       "        vertical-align: middle;\n",
       "    }\n",
       "\n",
       "    .dataframe tbody tr th {\n",
       "        vertical-align: top;\n",
       "    }\n",
       "\n",
       "    .dataframe thead th {\n",
       "        text-align: right;\n",
       "    }\n",
       "</style>\n",
       "<table border=\"1\" class=\"dataframe\">\n",
       "  <thead>\n",
       "    <tr style=\"text-align: right;\">\n",
       "      <th></th>\n",
       "      <th>TF</th>\n",
       "      <th>Bigram TF</th>\n",
       "      <th>No. of Stop_words</th>\n",
       "      <th>Out of Context</th>\n",
       "      <th>Religion and belief</th>\n",
       "      <th>Law, Government and Politics</th>\n",
       "      <th>Sixltr</th>\n",
       "      <th>conj</th>\n",
       "      <th>interrog</th>\n",
       "      <th>number</th>\n",
       "      <th>...</th>\n",
       "      <th>social</th>\n",
       "      <th>certain</th>\n",
       "      <th>percept</th>\n",
       "      <th>focuspast</th>\n",
       "      <th>focuspresent</th>\n",
       "      <th>time</th>\n",
       "      <th>PERSON</th>\n",
       "      <th>ORG</th>\n",
       "      <th>TIME</th>\n",
       "      <th>GPE</th>\n",
       "    </tr>\n",
       "  </thead>\n",
       "  <tbody>\n",
       "    <tr>\n",
       "      <td>0</td>\n",
       "      <td>54</td>\n",
       "      <td>17</td>\n",
       "      <td>0.378116</td>\n",
       "      <td>914</td>\n",
       "      <td>0.0</td>\n",
       "      <td>0.5712</td>\n",
       "      <td>19.49</td>\n",
       "      <td>6.39</td>\n",
       "      <td>0.96</td>\n",
       "      <td>1.76</td>\n",
       "      <td>...</td>\n",
       "      <td>16.61</td>\n",
       "      <td>0.48</td>\n",
       "      <td>3.67</td>\n",
       "      <td>6.55</td>\n",
       "      <td>5.59</td>\n",
       "      <td>5.75</td>\n",
       "      <td>0.0</td>\n",
       "      <td>0.0</td>\n",
       "      <td>0.0</td>\n",
       "      <td>0.0</td>\n",
       "    </tr>\n",
       "  </tbody>\n",
       "</table>\n",
       "<p>1 rows × 21 columns</p>\n",
       "</div>"
      ],
      "text/plain": [
       "   TF  Bigram TF  No. of Stop_words  Out of Context  Religion and belief  \\\n",
       "0  54         17           0.378116             914                  0.0   \n",
       "\n",
       "   Law, Government and Politics  Sixltr  conj  interrog  number  ...  social  \\\n",
       "0                        0.5712   19.49  6.39      0.96    1.76  ...   16.61   \n",
       "\n",
       "   certain  percept  focuspast  focuspresent  time  PERSON  ORG  TIME  GPE  \n",
       "0     0.48     3.67       6.55          5.59  5.75     0.0  0.0   0.0  0.0  \n",
       "\n",
       "[1 rows x 21 columns]"
      ]
     },
     "execution_count": 8,
     "metadata": {},
     "output_type": "execute_result"
    }
   ],
   "source": [
    "X[:1]"
   ]
  },
  {
   "cell_type": "code",
   "execution_count": 9,
   "metadata": {},
   "outputs": [],
   "source": [
    "#creating the dependant variable y\n",
    "y= df.loc[:,['Label']]"
   ]
  },
  {
   "cell_type": "code",
   "execution_count": 10,
   "metadata": {},
   "outputs": [],
   "source": [
    "y=y.iloc[:,0].values"
   ]
  },
  {
   "cell_type": "code",
   "execution_count": 11,
   "metadata": {},
   "outputs": [
    {
     "data": {
      "text/plain": [
       "13768"
      ]
     },
     "execution_count": 11,
     "metadata": {},
     "output_type": "execute_result"
    }
   ],
   "source": [
    "sum(y)"
   ]
  },
  {
   "cell_type": "code",
   "execution_count": 12,
   "metadata": {},
   "outputs": [
    {
     "data": {
      "text/plain": [
       "17934"
      ]
     },
     "execution_count": 12,
     "metadata": {},
     "output_type": "execute_result"
    }
   ],
   "source": [
    "len(X)"
   ]
  },
  {
   "cell_type": "code",
   "execution_count": 13,
   "metadata": {},
   "outputs": [
    {
     "name": "stdout",
     "output_type": "stream",
     "text": [
      "<class 'numpy.ndarray'>\n",
      "<class 'pandas.core.frame.DataFrame'>\n"
     ]
    }
   ],
   "source": [
    "print(type(y))\n",
    "print(type(X))"
   ]
  },
  {
   "cell_type": "code",
   "execution_count": 14,
   "metadata": {},
   "outputs": [],
   "source": [
    "train_x, test_x, train_y, test_y = model_selection.train_test_split(X,y,test_size = 0.2, random_state = 0)"
   ]
  },
  {
   "cell_type": "code",
   "execution_count": 15,
   "metadata": {},
   "outputs": [],
   "source": [
    "from sklearn.preprocessing import StandardScaler\n",
    "sc = StandardScaler()\n",
    "train_x = sc.fit_transform(train_x)\n",
    "test_x = sc.transform(test_x)"
   ]
  },
  {
   "cell_type": "code",
   "execution_count": 16,
   "metadata": {},
   "outputs": [
    {
     "data": {
      "text/plain": [
       "14347"
      ]
     },
     "execution_count": 16,
     "metadata": {},
     "output_type": "execute_result"
    }
   ],
   "source": [
    "len(train_y)"
   ]
  },
  {
   "cell_type": "code",
   "execution_count": 17,
   "metadata": {},
   "outputs": [
    {
     "name": "stdout",
     "output_type": "stream",
     "text": [
      "WARNING:tensorflow:From C:\\Users\\adith\\anaconda3\\envs\\ANZ\\lib\\site-packages\\tensorflow\\python\\ops\\resource_variable_ops.py:435: colocate_with (from tensorflow.python.framework.ops) is deprecated and will be removed in a future version.\n",
      "Instructions for updating:\n",
      "Colocations handled automatically by placer.\n"
     ]
    }
   ],
   "source": [
    "input_dim = 21\n",
    "from keras.optimizers import SGD\n",
    "model = Sequential()\n",
    "model.add(Dense(32, input_dim = input_dim ,kernel_initializer='he_uniform', bias_initializer='zeros', activation='relu'))\n",
    "model.add(Dense(32,kernel_initializer='he_uniform', bias_initializer='zeros', activation='relu'))\n",
    "model.add(Dense(8,kernel_initializer='he_uniform', bias_initializer='zeros', activation = 'relu'))\n",
    "# model.add(Dense(10, activation = 'relu'))\n",
    "model.add(Dense(1, activation='sigmoid'))\n",
    "model.compile(loss='binary_crossentropy', optimizer=SGD(lr=0.005), metrics=['accuracy'])"
   ]
  },
  {
   "cell_type": "code",
   "execution_count": 18,
   "metadata": {},
   "outputs": [
    {
     "name": "stdout",
     "output_type": "stream",
     "text": [
      "WARNING:tensorflow:From C:\\Users\\adith\\anaconda3\\envs\\ANZ\\lib\\site-packages\\tensorflow\\python\\ops\\math_ops.py:3066: to_int32 (from tensorflow.python.ops.math_ops) is deprecated and will be removed in a future version.\n",
      "Instructions for updating:\n",
      "Use tf.cast instead.\n",
      "Epoch 1/60\n",
      "14347/14347 [==============================] - 1s 57us/step - loss: 0.5518 - accuracy: 0.7537\n",
      "Epoch 2/60\n",
      "14347/14347 [==============================] - 1s 38us/step - loss: 0.4838 - accuracy: 0.7761\n",
      "Epoch 3/60\n",
      "14347/14347 [==============================] - 1s 38us/step - loss: 0.4359 - accuracy: 0.7933\n",
      "Epoch 4/60\n",
      "14347/14347 [==============================] - 1s 42us/step - loss: 0.3914 - accuracy: 0.8189\n",
      "Epoch 5/60\n",
      "14347/14347 [==============================] - 1s 41us/step - loss: 0.3505 - accuracy: 0.8500\n",
      "Epoch 6/60\n",
      "14347/14347 [==============================] - 1s 40us/step - loss: 0.3139 - accuracy: 0.8758\n",
      "Epoch 7/60\n",
      "14347/14347 [==============================] - 1s 37us/step - loss: 0.2836 - accuracy: 0.8935\n",
      "Epoch 8/60\n",
      "14347/14347 [==============================] - 1s 38us/step - loss: 0.2595 - accuracy: 0.9047\n",
      "Epoch 9/60\n",
      "14347/14347 [==============================] - 1s 40us/step - loss: 0.2391 - accuracy: 0.9130\n",
      "Epoch 10/60\n",
      "14347/14347 [==============================] - 1s 40us/step - loss: 0.2223 - accuracy: 0.9195\n",
      "Epoch 11/60\n",
      "14347/14347 [==============================] - 1s 40us/step - loss: 0.2086 - accuracy: 0.9255\n",
      "Epoch 12/60\n",
      "14347/14347 [==============================] - 1s 39us/step - loss: 0.1973 - accuracy: 0.9296\n",
      "Epoch 13/60\n",
      "14347/14347 [==============================] - 1s 40us/step - loss: 0.1876 - accuracy: 0.9332\n",
      "Epoch 14/60\n",
      "14347/14347 [==============================] - 1s 40us/step - loss: 0.1792 - accuracy: 0.9369\n",
      "Epoch 15/60\n",
      "14347/14347 [==============================] - 1s 40us/step - loss: 0.1719 - accuracy: 0.9388\n",
      "Epoch 16/60\n",
      "14347/14347 [==============================] - 1s 41us/step - loss: 0.1653 - accuracy: 0.9417\n",
      "Epoch 17/60\n",
      "14347/14347 [==============================] - 1s 42us/step - loss: 0.1594 - accuracy: 0.9440\n",
      "Epoch 18/60\n",
      "14347/14347 [==============================] - 1s 43us/step - loss: 0.1542 - accuracy: 0.9461\n",
      "Epoch 19/60\n",
      "14347/14347 [==============================] - 1s 43us/step - loss: 0.1493 - accuracy: 0.9480\n",
      "Epoch 20/60\n",
      "14347/14347 [==============================] - 1s 42us/step - loss: 0.1449 - accuracy: 0.9493\n",
      "Epoch 21/60\n",
      "14347/14347 [==============================] - 1s 42us/step - loss: 0.1410 - accuracy: 0.9500\n",
      "Epoch 22/60\n",
      "14347/14347 [==============================] - 1s 40us/step - loss: 0.1373 - accuracy: 0.9527\n",
      "Epoch 23/60\n",
      "14347/14347 [==============================] - 1s 39us/step - loss: 0.1342 - accuracy: 0.9535\n",
      "Epoch 24/60\n",
      "14347/14347 [==============================] - 1s 43us/step - loss: 0.1313 - accuracy: 0.9557\n",
      "Epoch 25/60\n",
      "14347/14347 [==============================] - 1s 44us/step - loss: 0.1283 - accuracy: 0.9557\n",
      "Epoch 26/60\n",
      "14347/14347 [==============================] - 1s 43us/step - loss: 0.1258 - accuracy: 0.9571\n",
      "Epoch 27/60\n",
      "14347/14347 [==============================] - 1s 45us/step - loss: 0.1240 - accuracy: 0.9569\n",
      "Epoch 28/60\n",
      "14347/14347 [==============================] - 1s 47us/step - loss: 0.1222 - accuracy: 0.9585\n",
      "Epoch 29/60\n",
      "14347/14347 [==============================] - 0s 30us/step - loss: 0.1199 - accuracy: 0.9588\n",
      "Epoch 30/60\n",
      "14347/14347 [==============================] - 0s 32us/step - loss: 0.1183 - accuracy: 0.9604\n",
      "Epoch 31/60\n",
      "14347/14347 [==============================] - 0s 28us/step - loss: 0.1163 - accuracy: 0.9594\n",
      "Epoch 32/60\n",
      "14347/14347 [==============================] - 0s 28us/step - loss: 0.1149 - accuracy: 0.9608\n",
      "Epoch 33/60\n",
      "14347/14347 [==============================] - 0s 29us/step - loss: 0.1135 - accuracy: 0.9613\n",
      "Epoch 34/60\n",
      "14347/14347 [==============================] - 0s 29us/step - loss: 0.1115 - accuracy: 0.9622\n",
      "Epoch 35/60\n",
      "14347/14347 [==============================] - 0s 29us/step - loss: 0.1100 - accuracy: 0.9619\n",
      "Epoch 36/60\n",
      "14347/14347 [==============================] - 0s 28us/step - loss: 0.1094 - accuracy: 0.9618\n",
      "Epoch 37/60\n",
      "14347/14347 [==============================] - 0s 30us/step - loss: 0.1083 - accuracy: 0.9621\n",
      "Epoch 38/60\n",
      "14347/14347 [==============================] - 0s 29us/step - loss: 0.1064 - accuracy: 0.9638\n",
      "Epoch 39/60\n",
      "14347/14347 [==============================] - 0s 30us/step - loss: 0.1055 - accuracy: 0.9642\n",
      "Epoch 40/60\n",
      "14347/14347 [==============================] - 0s 29us/step - loss: 0.1047 - accuracy: 0.9641\n",
      "Epoch 41/60\n",
      "14347/14347 [==============================] - 0s 32us/step - loss: 0.1039 - accuracy: 0.9631\n",
      "Epoch 42/60\n",
      "14347/14347 [==============================] - 1s 39us/step - loss: 0.1030 - accuracy: 0.9647\n",
      "Epoch 43/60\n",
      "14347/14347 [==============================] - 1s 38us/step - loss: 0.1018 - accuracy: 0.9652\n",
      "Epoch 44/60\n",
      "14347/14347 [==============================] - 1s 39us/step - loss: 0.1012 - accuracy: 0.9651\n",
      "Epoch 45/60\n",
      "14347/14347 [==============================] - 0s 32us/step - loss: 0.1001 - accuracy: 0.9652\n",
      "Epoch 46/60\n",
      "14347/14347 [==============================] - 0s 27us/step - loss: 0.0988 - accuracy: 0.9661\n",
      "Epoch 47/60\n",
      "14347/14347 [==============================] - 0s 29us/step - loss: 0.0986 - accuracy: 0.9647 0s - loss: 0.0898 - ac\n",
      "Epoch 48/60\n",
      "14347/14347 [==============================] - 0s 25us/step - loss: 0.0977 - accuracy: 0.9662\n",
      "Epoch 49/60\n",
      "14347/14347 [==============================] - 0s 27us/step - loss: 0.0969 - accuracy: 0.9663\n",
      "Epoch 50/60\n",
      "14347/14347 [==============================] - 0s 27us/step - loss: 0.0958 - accuracy: 0.9666\n",
      "Epoch 51/60\n",
      "14347/14347 [==============================] - 0s 28us/step - loss: 0.0957 - accuracy: 0.9649\n",
      "Epoch 52/60\n",
      "14347/14347 [==============================] - 0s 27us/step - loss: 0.0944 - accuracy: 0.9668\n",
      "Epoch 53/60\n",
      "14347/14347 [==============================] - 0s 25us/step - loss: 0.0942 - accuracy: 0.9661\n",
      "Epoch 54/60\n",
      "14347/14347 [==============================] - 0s 25us/step - loss: 0.0935 - accuracy: 0.9675\n",
      "Epoch 55/60\n",
      "14347/14347 [==============================] - 0s 26us/step - loss: 0.0927 - accuracy: 0.9667\n",
      "Epoch 56/60\n",
      "14347/14347 [==============================] - 0s 26us/step - loss: 0.0919 - accuracy: 0.9683\n",
      "Epoch 57/60\n",
      "14347/14347 [==============================] - 0s 26us/step - loss: 0.0915 - accuracy: 0.9671\n",
      "Epoch 58/60\n",
      "14347/14347 [==============================] - 0s 27us/step - loss: 0.0908 - accuracy: 0.9681 0s - loss: 0.0862 - ac\n",
      "Epoch 59/60\n",
      "14347/14347 [==============================] - 0s 25us/step - loss: 0.0902 - accuracy: 0.9679\n",
      "Epoch 60/60\n",
      "14347/14347 [==============================] - 0s 25us/step - loss: 0.0893 - accuracy: 0.9695\n"
     ]
    },
    {
     "data": {
      "text/plain": [
       "<keras.callbacks.callbacks.History at 0x2165ea883c8>"
      ]
     },
     "execution_count": 18,
     "metadata": {},
     "output_type": "execute_result"
    }
   ],
   "source": [
    "model.fit(train_x, train_y, epochs = 60, batch_size = 32, verbose=1)"
   ]
  },
  {
   "cell_type": "code",
   "execution_count": 19,
   "metadata": {},
   "outputs": [
    {
     "name": "stdout",
     "output_type": "stream",
     "text": [
      "3587/3587 [==============================] - 0s 20us/step\n",
      "\n",
      "accuracy: 95.65%\n"
     ]
    }
   ],
   "source": [
    "scores = model.evaluate(test_x, test_y)\n",
    "print(\"\\n%s: %.2f%%\" % (model.metrics_names[1], scores[1]*100))"
   ]
  },
  {
   "cell_type": "code",
   "execution_count": 20,
   "metadata": {},
   "outputs": [
    {
     "name": "stdout",
     "output_type": "stream",
     "text": [
      "Confusion matrix: \n",
      "[[ 745   73]\n",
      " [  83 2686]]\n"
     ]
    }
   ],
   "source": [
    "y_pred= model.predict(test_x)\n",
    "\n",
    "y_pred = (y_pred > 0.5)\n",
    "\n",
    "from sklearn.metrics import confusion_matrix\n",
    "cm = confusion_matrix(test_y, y_pred)\n",
    "\n",
    "print(\"Confusion matrix: \")\n",
    "print(cm)"
   ]
  }
 ],
 "metadata": {
  "kernelspec": {
   "display_name": "ANZ",
   "language": "python",
   "name": "anz"
  },
  "language_info": {
   "codemirror_mode": {
    "name": "ipython",
    "version": 3
   },
   "file_extension": ".py",
   "mimetype": "text/x-python",
   "name": "python",
   "nbconvert_exporter": "python",
   "pygments_lexer": "ipython3",
   "version": "3.6.9"
  }
 },
 "nbformat": 4,
 "nbformat_minor": 4
}
