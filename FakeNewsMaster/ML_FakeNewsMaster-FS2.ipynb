{
 "cells": [
  {
   "cell_type": "code",
   "execution_count": 1,
   "metadata": {},
   "outputs": [],
   "source": [
    "import pandas as pd\n",
    "import numpy as np\n",
    "import matplotlib.pyplot as plt"
   ]
  },
  {
   "cell_type": "code",
   "execution_count": 2,
   "metadata": {},
   "outputs": [
    {
     "data": {
      "text/plain": [
       "['TF',\n",
       " 'Bigram TF',\n",
       " 'No. of Stop_words',\n",
       " 'Out of Context',\n",
       " 'Arts, Culture, Entertainment, Sports',\n",
       " 'Conspiracy',\n",
       " 'Business and Industrial',\n",
       " 'economy, business and finance',\n",
       " 'Religion and belief',\n",
       " 'Law, Government and Politics',\n",
       " 'Education',\n",
       " 'Technology and Computing',\n",
       " 'Science',\n",
       " 'Sixltr',\n",
       " 'conj',\n",
       " 'interrog',\n",
       " 'number',\n",
       " 'negemo',\n",
       " 'social',\n",
       " 'certain',\n",
       " 'percept',\n",
       " 'focuspast',\n",
       " 'focuspresent',\n",
       " 'time',\n",
       " 'PERSON',\n",
       " 'TIME',\n",
       " 'ORG',\n",
       " 'GPE']"
      ]
     },
     "execution_count": 2,
     "metadata": {},
     "output_type": "execute_result"
    }
   ],
   "source": [
    "features = pd.read_csv('FakeNewsMaster-FS-nodup.csv')\n",
    "list(features.columns)"
   ]
  },
  {
   "cell_type": "code",
   "execution_count": 3,
   "metadata": {},
   "outputs": [],
   "source": [
    "features.fillna(0,inplace=True)"
   ]
  },
  {
   "cell_type": "code",
   "execution_count": 4,
   "metadata": {},
   "outputs": [
    {
     "data": {
      "text/plain": [
       "['id',\n",
       " 'url',\n",
       " 'title',\n",
       " 'tweet_id',\n",
       " 'text',\n",
       " 'date',\n",
       " 'grammatical errors',\n",
       " 'Label',\n",
       " 'Clean_text',\n",
       " 'TF_temp',\n",
       " 'TF',\n",
       " 'Bigram TF_temp',\n",
       " 'Bigram TF',\n",
       " 'No. of Stop_words',\n",
       " 'Out of Context temp',\n",
       " 'Out of Context',\n",
       " 'Textrazor_category',\n",
       " 'Textrazor_topic',\n",
       " 'Topics_category',\n",
       " 'Topics_topic',\n",
       " 'score_category',\n",
       " 'score_topic',\n",
       " 'category_score_final',\n",
       " 'category_list_final',\n",
       " 'topic_score_final',\n",
       " 'topic_list_final',\n",
       " 'arts, culture and entertainment',\n",
       " 'Conspiracy',\n",
       " 'crime, law and justice',\n",
       " 'Criticism of journalism',\n",
       " 'Advertising video on demand',\n",
       " 'computing and information technology',\n",
       " 'agriculture',\n",
       " 'energy and resource',\n",
       " 'economy, business and finance',\n",
       " 'Harassment',\n",
       " 'Cyberspace',\n",
       " 'religion and belief',\n",
       " 'Politics and technology',\n",
       " 'Social media',\n",
       " 'science and technology',\n",
       " 'Social epistemology',\n",
       " 'social issue',\n",
       " 'environmental issue',\n",
       " 'Academia',\n",
       " 'Attacks',\n",
       " 'Feminism',\n",
       " 'Sports',\n",
       " 'Internet-Cyberspace',\n",
       " 'Science',\n",
       " 'Sixltr',\n",
       " 'conj',\n",
       " 'interrog',\n",
       " 'number',\n",
       " 'negemo',\n",
       " 'social',\n",
       " 'certain',\n",
       " 'percept',\n",
       " 'focuspast',\n",
       " 'focuspresent',\n",
       " 'time',\n",
       " 'Arts, Culture, Entertainment, Sports',\n",
       " 'Business and Industrial',\n",
       " 'Law, Government and Politics',\n",
       " 'religion & social epistemology']"
      ]
     },
     "execution_count": 4,
     "metadata": {},
     "output_type": "execute_result"
    }
   ],
   "source": [
    "df= pd.read_pickle('FakeNewsMaster-dup.pkl')\n",
    "list(df.columns)"
   ]
  },
  {
   "cell_type": "code",
   "execution_count": 5,
   "metadata": {},
   "outputs": [
    {
     "name": "stdout",
     "output_type": "stream",
     "text": [
      "17934\n",
      "17934\n"
     ]
    }
   ],
   "source": [
    "print(len(df))\n",
    "print(len(features))"
   ]
  },
  {
   "cell_type": "code",
   "execution_count": 6,
   "metadata": {},
   "outputs": [],
   "source": [
    "X=features.loc[:,['TF','Bigram TF','No. of Stop_words', 'Out of Context', 'Religion and belief', 'Law, Government and Politics',\n",
    " 'Sixltr', 'conj', 'interrog', 'number', 'negemo', 'social', 'certain', 'percept', 'focuspast', 'focuspresent', 'time','PERSON','ORG','TIME','GPE']]"
   ]
  },
  {
   "cell_type": "code",
   "execution_count": 24,
   "metadata": {},
   "outputs": [
    {
     "ename": "AttributeError",
     "evalue": "'numpy.ndarray' object has no attribute 'info'",
     "output_type": "error",
     "traceback": [
      "\u001b[1;31m---------------------------------------------------------------------------\u001b[0m",
      "\u001b[1;31mAttributeError\u001b[0m                            Traceback (most recent call last)",
      "\u001b[1;32m<ipython-input-24-9545f5b82155>\u001b[0m in \u001b[0;36m<module>\u001b[1;34m\u001b[0m\n\u001b[1;32m----> 1\u001b[1;33m \u001b[0mX\u001b[0m\u001b[1;33m.\u001b[0m\u001b[0minfo\u001b[0m\u001b[1;33m(\u001b[0m\u001b[1;33m)\u001b[0m\u001b[1;33m\u001b[0m\u001b[1;33m\u001b[0m\u001b[0m\n\u001b[0m",
      "\u001b[1;31mAttributeError\u001b[0m: 'numpy.ndarray' object has no attribute 'info'"
     ]
    }
   ],
   "source": []
  },
  {
   "cell_type": "code",
   "execution_count": 7,
   "metadata": {},
   "outputs": [],
   "source": [
    "X=X.iloc[:,:].values"
   ]
  },
  {
   "cell_type": "code",
   "execution_count": 8,
   "metadata": {},
   "outputs": [],
   "source": [
    "#creating the dependant variable y\n",
    "y= df.loc[:,['Label']]"
   ]
  },
  {
   "cell_type": "code",
   "execution_count": 9,
   "metadata": {},
   "outputs": [],
   "source": [
    "y=y.iloc[:,0].values"
   ]
  },
  {
   "cell_type": "code",
   "execution_count": 10,
   "metadata": {},
   "outputs": [
    {
     "name": "stdout",
     "output_type": "stream",
     "text": [
      "<class 'numpy.ndarray'>\n",
      "<class 'numpy.ndarray'>\n"
     ]
    }
   ],
   "source": [
    "print(type(y))\n",
    "print(type(X))"
   ]
  },
  {
   "cell_type": "code",
   "execution_count": 11,
   "metadata": {},
   "outputs": [],
   "source": [
    "import numpy as np\n",
    "import matplotlib.pyplot as plt\n",
    "import pandas as pd"
   ]
  },
  {
   "cell_type": "code",
   "execution_count": 12,
   "metadata": {},
   "outputs": [],
   "source": [
    "# #splitting our data into train and test, 20% test and 80% train\n",
    "# from sklearn.model_selection import train_test_split\n",
    "# X_train, X_test, y_train, y_test = train_test_split(X, y, test_size = 0.20, random_state = 0)\n"
   ]
  },
  {
   "cell_type": "code",
   "execution_count": 13,
   "metadata": {},
   "outputs": [
    {
     "name": "stdout",
     "output_type": "stream",
     "text": [
      "TRAIN: [ 4368  8811  7743 ... 13460 11653 14946] TEST: [ 4925  2251  9677 ... 11113  6431 17759]\n",
      "TRAIN: [16660  7641 17514 ...  1327  7627  1487] TEST: [17522  9760 16575 ... 10618 15418   580]\n",
      "TRAIN: [12694 12735  1587 ...  9334   801 10753] TEST: [14997  2342  4988 ... 11072  1498 12384]\n",
      "TRAIN: [ 3555  8806  6674 ...  3924   182 11484] TEST: [11209 14504 12532 ... 10879 13607 11855]\n",
      "TRAIN: [  561  3795 17253 ... 14910  7366  1319] TEST: [ 2740 16403 12556 ... 11218  8167  8876]\n"
     ]
    }
   ],
   "source": [
    "#Stratified split\n",
    "from sklearn.model_selection import StratifiedShuffleSplit\n",
    "sss = StratifiedShuffleSplit( n_splits=5, test_size=0.2, random_state=0)\n",
    "for train_index, test_index in sss.split(X, y):\n",
    "    print(\"TRAIN:\", train_index, \"TEST:\", test_index)\n",
    "    X_train, X_test = X[train_index], X[test_index]\n",
    "    y_train, y_test = y[train_index], y[test_index]"
   ]
  },
  {
   "cell_type": "code",
   "execution_count": 14,
   "metadata": {},
   "outputs": [],
   "source": [
    "#Applying feature scaling so that training is faster\n",
    "from sklearn.preprocessing import StandardScaler\n",
    "sc = StandardScaler()\n",
    "X_train = sc.fit_transform(X_train)\n",
    "X_test = sc.transform(X_test)"
   ]
  },
  {
   "cell_type": "code",
   "execution_count": 15,
   "metadata": {},
   "outputs": [
    {
     "name": "stdout",
     "output_type": "stream",
     "text": [
      "Confusion matrix with Naive Bayes: \n",
      "[[ 798   35]\n",
      " [ 594 2160]]\n",
      "Accuracy with Naive Bayes: \n",
      "0.8246445497630331\n",
      "Accuracy and Standard deviation after applying k-fold cross validation, k=10\n",
      "0.832578640191662\n",
      "0.010253315651728937\n"
     ]
    },
    {
     "data": {
      "image/png": "[encoded data removed]",
      "text/plain": [
       "<Figure size 432x288 with 1 Axes>"
      ]
     },
     "metadata": {
      "needs_background": "light"
     },
     "output_type": "display_data"
    }
   ],
   "source": [
    "#classifier naive bayes\n",
    "from sklearn.naive_bayes import GaussianNB\n",
    "classifier = GaussianNB()\n",
    "classifier.fit(X_train, y_train)\n",
    "\n",
    "y_pred = classifier.predict(X_test)\n",
    "\n",
    "# Making the Confusion Matrix\n",
    "from sklearn.metrics import confusion_matrix\n",
    "cm = confusion_matrix(y_test, y_pred)\n",
    "\n",
    "\n",
    "print(\"Confusion matrix with Naive Bayes: \")\n",
    "print(cm)\n",
    "print(\"Accuracy with Naive Bayes: \")\n",
    "\n",
    "from sklearn.metrics import accuracy_score\n",
    "print(accuracy_score(y_test, y_pred))\n",
    "\n",
    "print(\"Accuracy and Standard deviation after applying k-fold cross validation, k=10\")\n",
    "# Applying k-Fold Cross Validation\n",
    "from sklearn.model_selection import cross_val_score\n",
    "accuracies = cross_val_score(estimator = classifier, X = X_train, y = y_train, cv = 10)\n",
    "print(accuracies.mean())\n",
    "print(accuracies.std())\n",
    "\n",
    "from sklearn import  metrics\n",
    "naive_bayes = metrics.plot_roc_curve(classifier, X_test, y_test)"
   ]
  },
  {
   "cell_type": "code",
   "execution_count": 16,
   "metadata": {},
   "outputs": [
    {
     "name": "stdout",
     "output_type": "stream",
     "text": [
      "Confusion matrix with random forests: \n",
      "[[ 767   66]\n",
      " [  22 2732]]\n",
      "Accuracy with random forests: \n",
      "0.9754669640367996\n",
      "Accuracy and Standard deviation after applying k-fold cross validation, k=10\n",
      "0.9721890474732602\n",
      "0.0035348255438226363\n"
     ]
    },
    {
     "data": {
      "image/png": "[encoded data removed]",
      "text/plain": [
       "<Figure size 432x288 with 1 Axes>"
      ]
     },
     "metadata": {
      "needs_background": "light"
     },
     "output_type": "display_data"
    }
   ],
   "source": [
    "from sklearn.ensemble import RandomForestClassifier\n",
    "classifier = RandomForestClassifier(n_estimators = 100, criterion = 'entropy', random_state = 0)\n",
    "classifier.fit(X_train, y_train)\n",
    "\n",
    "y_pred = classifier.predict(X_test)\n",
    "\n",
    "from sklearn.metrics import confusion_matrix\n",
    "cm = confusion_matrix(y_test, y_pred)\n",
    "\n",
    "print(\"Confusion matrix with random forests: \")\n",
    "print(cm)\n",
    "print(\"Accuracy with random forests: \")\n",
    "\n",
    "from sklearn.metrics import accuracy_score\n",
    "print(accuracy_score(y_test, y_pred))\n",
    "\n",
    "print(\"Accuracy and Standard deviation after applying k-fold cross validation, k=10\")\n",
    "# Applying k-Fold Cross Validation\n",
    "from sklearn.model_selection import cross_val_score\n",
    "accuracies = cross_val_score(estimator = classifier, X = X_train, y = y_train, cv = 10)\n",
    "print(accuracies.mean())\n",
    "print(accuracies.std())\n",
    "\n",
    "# # Applying Grid Search to find the best model and the best parameters\n",
    "# from sklearn.model_selection import GridSearchCV\n",
    "# parameters = [{'n_estimators': [10, 20, 50, 100], 'criterion': ['entropy', 'gini'], 'random_state':[0], 'max_features':['auto', None ]}\n",
    "#              ]\n",
    "    \n",
    "# grid_search = GridSearchCV(estimator = classifier,\n",
    "#                            param_grid = parameters,\n",
    "#                            scoring = 'accuracy',\n",
    "#                            cv = 10,\n",
    "#                            n_jobs = -1)\n",
    "# grid_search = grid_search.fit(X_train, y_train)\n",
    "# best_accuracy = grid_search.best_score_\n",
    "# best_parameters = grid_search.best_params_\n",
    "\n",
    "# print(\"Accuracy with Grid search :\")\n",
    "# print(best_accuracy)\n",
    "\n",
    "# print(\"Best parameters for random forests for best accuracy\")\n",
    "# print(best_parameters)\n",
    "\n",
    "from sklearn.metrics import plot_roc_curve\n",
    "ax=plt.gca()\n",
    "random_forests = metrics.plot_roc_curve(classifier, X_test, y_test, ax=ax, alpha=0.8)\n"
   ]
  },
  {
   "cell_type": "code",
   "execution_count": 17,
   "metadata": {},
   "outputs": [
    {
     "name": "stdout",
     "output_type": "stream",
     "text": [
      "Confusion matrix with decision tree: \n",
      "[[ 769   64]\n",
      " [  58 2696]]\n",
      "Accuracy with decision tree: \n",
      "0.9659882910510176\n",
      "Accuracy and Standard deviation after applying k-fold cross validation, k=10\n",
      "0.9607587265950365\n",
      "0.005091361890385163\n"
     ]
    }
   ],
   "source": [
    "from sklearn.tree import DecisionTreeClassifier\n",
    "classifier = DecisionTreeClassifier(criterion = 'entropy', random_state = 0)\n",
    "classifier.fit(X_train, y_train)\n",
    "\n",
    "y_pred = classifier.predict(X_test)\n",
    "\n",
    "from sklearn.metrics import confusion_matrix\n",
    "cm = confusion_matrix(y_test, y_pred)\n",
    "\n",
    "print(\"Confusion matrix with decision tree: \")\n",
    "print(cm)\n",
    "print(\"Accuracy with decision tree: \")\n",
    "\n",
    "from sklearn.metrics import accuracy_score\n",
    "print(accuracy_score(y_test, y_pred))\n",
    "\n",
    "print(\"Accuracy and Standard deviation after applying k-fold cross validation, k=10\")\n",
    "# Applying k-Fold Cross Validation\n",
    "from sklearn.model_selection import cross_val_score\n",
    "accuracies = cross_val_score(estimator = classifier, X = X_train, y = y_train, cv = 10)\n",
    "print(accuracies.mean())\n",
    "print(accuracies.std())\n",
    "\n",
    "from sklearn import  metrics\n",
    "decision_tree = metrics.plot_roc_curve(classifier, X_test, y_test,ax=ax, alpha=0.8)"
   ]
  },
  {
   "cell_type": "code",
   "execution_count": 18,
   "metadata": {},
   "outputs": [
    {
     "data": {
      "text/plain": [
       "array([0.00748927, 0.00551953, 0.00797856, 0.07138059, 0.0016126 ,\n",
       "       0.01941513, 0.01044544, 0.00813266, 0.00341525, 0.00902516,\n",
       "       0.00689366, 0.01098836, 0.00570897, 0.0095931 , 0.01084672,\n",
       "       0.006406  , 0.00742437, 0.71158446, 0.07063808, 0.00298385,\n",
       "       0.01251825])"
      ]
     },
     "execution_count": 18,
     "metadata": {},
     "output_type": "execute_result"
    }
   ],
   "source": [
    "classifier.feature_importances_"
   ]
  },
  {
   "cell_type": "code",
   "execution_count": 19,
   "metadata": {},
   "outputs": [
    {
     "name": "stdout",
     "output_type": "stream",
     "text": [
      "Confusion matrix with K Nearest Neighbours: \n",
      "[[ 705  128]\n",
      " [ 103 2651]]\n",
      "Accuracy with K nearest Neighbours: \n",
      "0.9356007805965988\n",
      "Accuracy and Standard deviation after applying k-fold cross validation, k=10\n",
      "0.9303684049392794\n",
      "0.005914506219953065\n"
     ]
    },
    {
     "data": {
      "image/png": "[encoded data removed]",
      "text/plain": [
       "<Figure size 432x288 with 1 Axes>"
      ]
     },
     "metadata": {
      "needs_background": "light"
     },
     "output_type": "display_data"
    }
   ],
   "source": [
    "from sklearn.neighbors import KNeighborsClassifier\n",
    "classifier = KNeighborsClassifier(n_neighbors = 110, p=1, algorithm='auto')\n",
    "classifier.fit(X_train, y_train)\n",
    "\n",
    "y_pred = classifier.predict(X_test)\n",
    "\n",
    "from sklearn.metrics import confusion_matrix\n",
    "cm = confusion_matrix(y_test, y_pred)\n",
    "\n",
    "print(\"Confusion matrix with K Nearest Neighbours: \")\n",
    "print(cm)\n",
    "print(\"Accuracy with K nearest Neighbours: \")\n",
    "\n",
    "from sklearn.metrics import accuracy_score\n",
    "print(accuracy_score(y_test, y_pred))\n",
    "\n",
    "print(\"Accuracy and Standard deviation after applying k-fold cross validation, k=10\")\n",
    "# Applying k-Fold Cross Validation\n",
    "from sklearn.model_selection import cross_val_score\n",
    "accuracies = cross_val_score(estimator = classifier, X = X_train, y = y_train, cv = 10)\n",
    "print(accuracies.mean())\n",
    "print(accuracies.std())\n",
    "\n",
    "# # Applying Grid Search to find the best model and the best parameters\n",
    "# from sklearn.model_selection import GridSearchCV\n",
    "# parameters = [{'n_neighbors': [90, 110, 100], 'metric': ['minkowski'], 'p':[1], \"algorithm\":['auto'] }]\n",
    "# grid_search = GridSearchCV(estimator = classifier,\n",
    "#                            param_grid = parameters,\n",
    "#                            scoring = 'accuracy',\n",
    "#                            cv = 10,\n",
    "#                            n_jobs = -1)\n",
    "# grid_search = grid_search.fit(X_train, y_train)\n",
    "# best_accuracy = grid_search.best_score_\n",
    "# best_parameters = grid_search.best_params_\n",
    "\n",
    "# print(\"Accuracy with Grid search :\")\n",
    "# print(best_accuracy)\n",
    "\n",
    "# print(\"Best parameters for KNN for best accuracy\")\n",
    "# print(best_parameters)\n",
    "\n",
    "from sklearn import  metrics\n",
    "KNN = metrics.plot_roc_curve(classifier, X_test, y_test)"
   ]
  },
  {
   "cell_type": "code",
   "execution_count": 20,
   "metadata": {},
   "outputs": [
    {
     "name": "stdout",
     "output_type": "stream",
     "text": [
      "Confusion matrix with XGBoost: \n",
      "[[ 773   60]\n",
      " [  32 2722]]\n",
      "Accuracy with XGBoost: \n",
      "0.9743518260384723\n",
      "Accuracy and Standard deviation after applying k-fold cross validation, k=10\n",
      "0.9723287604663255\n",
      "0.0035265591284579646\n"
     ]
    },
    {
     "data": {
      "image/png": "[encoded data removed]",
      "text/plain": [
       "<Figure size 432x288 with 1 Axes>"
      ]
     },
     "metadata": {
      "needs_background": "light"
     },
     "output_type": "display_data"
    }
   ],
   "source": [
    "import xgboost\n",
    "from xgboost import XGBClassifier\n",
    "classifier = XGBClassifier()\n",
    "classifier.fit(X_train, y_train)\n",
    "\n",
    "y_pred = classifier.predict(X_test)\n",
    "\n",
    "from sklearn.metrics import confusion_matrix\n",
    "cm = confusion_matrix(y_test, y_pred)\n",
    "\n",
    "print(\"Confusion matrix with XGBoost: \")\n",
    "print(cm)\n",
    "print(\"Accuracy with XGBoost: \")\n",
    "\n",
    "from sklearn.metrics import accuracy_score\n",
    "print(accuracy_score(y_test, y_pred))\n",
    "\n",
    "print(\"Accuracy and Standard deviation after applying k-fold cross validation, k=10\")\n",
    "# Applying k-Fold Cross Validation\n",
    "from sklearn.model_selection import cross_val_score\n",
    "accuracies = cross_val_score(estimator = classifier, X = X_train, y = y_train, cv = 10)\n",
    "print(accuracies.mean())\n",
    "print(accuracies.std())\n",
    "\n",
    "from sklearn import  metrics\n",
    "XGboost = metrics.plot_roc_curve(classifier, X_test, y_test)\n"
   ]
  },
  {
   "cell_type": "code",
   "execution_count": 21,
   "metadata": {},
   "outputs": [
    {
     "name": "stdout",
     "output_type": "stream",
     "text": [
      "Confusion matrix with kernel SVM: \n",
      "[[ 742   91]\n",
      " [  64 2690]]\n",
      "Accuracy with kernel SVM: \n",
      "0.9567884025648173\n",
      "Accuracy and Standard deviation after applying k-fold cross validation, k=10\n",
      "0.9576909208422629\n",
      "0.0033076673528447953\n"
     ]
    },
    {
     "data": {
      "image/png": "[encoded data removed]",
      "text/plain": [
       "<Figure size 432x288 with 1 Axes>"
      ]
     },
     "metadata": {
      "needs_background": "light"
     },
     "output_type": "display_data"
    }
   ],
   "source": [
    "from sklearn.svm import SVC\n",
    "classifier = SVC(kernel = 'rbf', random_state = 0, gamma='scale', C=10)\n",
    "classifier.fit(X_train, y_train)\n",
    "\n",
    "y_pred = classifier.predict(X_test)\n",
    "\n",
    "from sklearn.metrics import confusion_matrix\n",
    "cm = confusion_matrix(y_test, y_pred)\n",
    "\n",
    "print(\"Confusion matrix with kernel SVM: \")\n",
    "print(cm)\n",
    "print(\"Accuracy with kernel SVM: \")\n",
    "\n",
    "from sklearn.metrics import accuracy_score\n",
    "print(accuracy_score(y_test, y_pred))\n",
    "\n",
    "print(\"Accuracy and Standard deviation after applying k-fold cross validation, k=10\")\n",
    "# Applying k-Fold Cross Validation\n",
    "from sklearn.model_selection import cross_val_score\n",
    "accuracies = cross_val_score(estimator = classifier, X = X_train, y = y_train, cv = 10)\n",
    "print(accuracies.mean())\n",
    "print(accuracies.std())\n",
    "\n",
    "from sklearn import  metrics\n",
    "svm = metrics.plot_roc_curve(classifier, X_test, y_test)"
   ]
  },
  {
   "cell_type": "code",
   "execution_count": 22,
   "metadata": {},
   "outputs": [],
   "source": [
    "\n",
    "# # Applying Grid Search to find the best model and the best parameters\n",
    "# from sklearn.model_selection import GridSearchCV\n",
    "# parameters = [ {'C': [1, 10, 100, 1000], 'kernel': ['rbf'], 'gamma':['scale','auto']}]\n",
    "# grid_search = GridSearchCV(estimator = classifier,\n",
    "#                            param_grid = parameters,\n",
    "#                            scoring = 'accuracy',\n",
    "#                            cv = 10,\n",
    "#                            n_jobs = -1)\n",
    "# grid_search = grid_search.fit(X_train, y_train)\n",
    "# best_accuracy = grid_search.best_score_\n",
    "# best_parameters = grid_search.best_params_\n",
    "\n",
    "# print(\"Accuracy with Grid search :\")\n",
    "# print(best_accuracy)\n",
    "\n",
    "# print(\"Best parameters for SVM for best accuracy\")\n",
    "# print(best_parameters)"
   ]
  },
  {
   "cell_type": "code",
   "execution_count": 23,
   "metadata": {},
   "outputs": [
    {
     "name": "stderr",
     "output_type": "stream",
     "text": [
      "The PostScript backend does not support transparency; partially transparent artists will be rendered opaque.\n",
      "The PostScript backend does not support transparency; partially transparent artists will be rendered opaque.\n",
      "The PostScript backend does not support transparency; partially transparent artists will be rendered opaque.\n",
      "The PostScript backend does not support transparency; partially transparent artists will be rendered opaque.\n",
      "The PostScript backend does not support transparency; partially transparent artists will be rendered opaque.\n",
      "The PostScript backend does not support transparency; partially transparent artists will be rendered opaque.\n",
      "The PostScript backend does not support transparency; partially transparent artists will be rendered opaque.\n",
      "The PostScript backend does not support transparency; partially transparent artists will be rendered opaque.\n",
      "The PostScript backend does not support transparency; partially transparent artists will be rendered opaque.\n",
      "The PostScript backend does not support transparency; partially transparent artists will be rendered opaque.\n",
      "The PostScript backend does not support transparency; partially transparent artists will be rendered opaque.\n",
      "The PostScript backend does not support transparency; partially transparent artists will be rendered opaque.\n",
      "The PostScript backend does not support transparency; partially transparent artists will be rendered opaque.\n",
      "The PostScript backend does not support transparency; partially transparent artists will be rendered opaque.\n",
      "The PostScript backend does not support transparency; partially transparent artists will be rendered opaque.\n",
      "The PostScript backend does not support transparency; partially transparent artists will be rendered opaque.\n",
      "The PostScript backend does not support transparency; partially transparent artists will be rendered opaque.\n",
      "The PostScript backend does not support transparency; partially transparent artists will be rendered opaque.\n",
      "The PostScript backend does not support transparency; partially transparent artists will be rendered opaque.\n",
      "The PostScript backend does not support transparency; partially transparent artists will be rendered opaque.\n",
      "The PostScript backend does not support transparency; partially transparent artists will be rendered opaque.\n",
      "The PostScript backend does not support transparency; partially transparent artists will be rendered opaque.\n",
      "The PostScript backend does not support transparency; partially transparent artists will be rendered opaque.\n",
      "The PostScript backend does not support transparency; partially transparent artists will be rendered opaque.\n",
      "The PostScript backend does not support transparency; partially transparent artists will be rendered opaque.\n",
      "The PostScript backend does not support transparency; partially transparent artists will be rendered opaque.\n",
      "The PostScript backend does not support transparency; partially transparent artists will be rendered opaque.\n",
      "The PostScript backend does not support transparency; partially transparent artists will be rendered opaque.\n"
     ]
    },
    {
     "data": {
      "image/png": "[encoded data removed]",
      "text/plain": [
       "<Figure size 432x288 with 1 Axes>"
      ]
     },
     "metadata": {
      "needs_background": "light"
     },
     "output_type": "display_data"
    }
   ],
   "source": [
    "#plotting the graphs\n",
    "ax=plt.gca()\n",
    "svm.plot(ax=ax, alpha=0.8)\n",
    "naive_bayes.plot(ax=ax, alpha=0.8)\n",
    "XGboost.plot(ax=ax, alpha=0.8)\n",
    "random_forests.plot(ax=ax, alpha=0.8)\n",
    "decision_tree.plot(ax=ax, alpha=0.8)\n",
    "KNN.plot(ax=ax, alpha=0.8)\n",
    "fig = plt.gcf()\n",
    "fig.savefig('FakeNewsMaster-FS2.eps',transparent=True, bbox_inches='tight', dpi=400)\n",
    "plt.show()"
   ]
  },
  {
   "cell_type": "code",
   "execution_count": null,
   "metadata": {},
   "outputs": [],
   "source": []
  }
 ],
 "metadata": {
  "kernelspec": {
   "display_name": "Python 3",
   "language": "python",
   "name": "python3"
  },
  "language_info": {
   "codemirror_mode": {
    "name": "ipython",
    "version": 3
   },
   "file_extension": ".py",
   "mimetype": "text/x-python",
   "name": "python",
   "nbconvert_exporter": "python",
   "pygments_lexer": "ipython3",
   "version": "3.7.4"
  }
 },
 "nbformat": 4,
 "nbformat_minor": 2
}
