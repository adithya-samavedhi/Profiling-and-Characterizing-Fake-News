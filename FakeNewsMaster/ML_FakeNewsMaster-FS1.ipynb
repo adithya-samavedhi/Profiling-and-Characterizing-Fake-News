{
 "cells": [
  {
   "cell_type": "code",
   "execution_count": 1,
   "metadata": {},
   "outputs": [],
   "source": [
    "import pandas as pd\n",
    "import numpy as np\n",
    "import matplotlib.pyplot as plt"
   ]
  },
  {
   "cell_type": "code",
   "execution_count": 2,
   "metadata": {},
   "outputs": [
    {
     "data": {
      "text/plain": [
       "['TF',\n",
       " 'Bigram TF',\n",
       " 'No. of Stop_words',\n",
       " 'Out of Context',\n",
       " 'Arts, Culture, Entertainment, Sports',\n",
       " 'Conspiracy',\n",
       " 'Business and Industrial',\n",
       " 'economy, business and finance',\n",
       " 'Religion and belief',\n",
       " 'Law, Government and Politics',\n",
       " 'Education',\n",
       " 'Technology and Computing',\n",
       " 'Science',\n",
       " 'Sixltr',\n",
       " 'conj',\n",
       " 'interrog',\n",
       " 'number',\n",
       " 'negemo',\n",
       " 'social',\n",
       " 'certain',\n",
       " 'percept',\n",
       " 'focuspast',\n",
       " 'focuspresent',\n",
       " 'time',\n",
       " 'PERSON',\n",
       " 'TIME',\n",
       " 'ORG',\n",
       " 'GPE']"
      ]
     },
     "execution_count": 2,
     "metadata": {},
     "output_type": "execute_result"
    }
   ],
   "source": [
    "features = pd.read_csv('FakeNewsMaster-FS-nodup.csv')\n",
    "list(features.columns)"
   ]
  },
  {
   "cell_type": "code",
   "execution_count": 3,
   "metadata": {},
   "outputs": [],
   "source": [
    "features.fillna(0,inplace=True)"
   ]
  },
  {
   "cell_type": "code",
   "execution_count": 4,
   "metadata": {},
   "outputs": [
    {
     "data": {
      "text/plain": [
       "['id',\n",
       " 'url',\n",
       " 'title',\n",
       " 'tweet_id',\n",
       " 'text',\n",
       " 'date',\n",
       " 'grammatical errors',\n",
       " 'Label',\n",
       " 'Clean_text',\n",
       " 'TF_temp',\n",
       " 'TF',\n",
       " 'Bigram TF_temp',\n",
       " 'Bigram TF',\n",
       " 'No. of Stop_words',\n",
       " 'Out of Context temp',\n",
       " 'Out of Context',\n",
       " 'Textrazor_category',\n",
       " 'Textrazor_topic',\n",
       " 'Topics_category',\n",
       " 'Topics_topic',\n",
       " 'score_category',\n",
       " 'score_topic',\n",
       " 'category_score_final',\n",
       " 'category_list_final',\n",
       " 'topic_score_final',\n",
       " 'topic_list_final',\n",
       " 'arts, culture and entertainment',\n",
       " 'Conspiracy',\n",
       " 'crime, law and justice',\n",
       " 'Criticism of journalism',\n",
       " 'Advertising video on demand',\n",
       " 'computing and information technology',\n",
       " 'agriculture',\n",
       " 'energy and resource',\n",
       " 'economy, business and finance',\n",
       " 'Harassment',\n",
       " 'Cyberspace',\n",
       " 'religion and belief',\n",
       " 'Politics and technology',\n",
       " 'Social media',\n",
       " 'science and technology',\n",
       " 'Social epistemology',\n",
       " 'social issue',\n",
       " 'environmental issue',\n",
       " 'Academia',\n",
       " 'Attacks',\n",
       " 'Feminism',\n",
       " 'Sports',\n",
       " 'Internet-Cyberspace',\n",
       " 'Science',\n",
       " 'Sixltr',\n",
       " 'conj',\n",
       " 'interrog',\n",
       " 'number',\n",
       " 'negemo',\n",
       " 'social',\n",
       " 'certain',\n",
       " 'percept',\n",
       " 'focuspast',\n",
       " 'focuspresent',\n",
       " 'time',\n",
       " 'Arts, Culture, Entertainment, Sports',\n",
       " 'Business and Industrial',\n",
       " 'Law, Government and Politics',\n",
       " 'religion & social epistemology']"
      ]
     },
     "execution_count": 4,
     "metadata": {},
     "output_type": "execute_result"
    }
   ],
   "source": [
    "df= pd.read_pickle('FakeNewsMaster-dup.pkl')\n",
    "list(df.columns)"
   ]
  },
  {
   "cell_type": "code",
   "execution_count": 5,
   "metadata": {},
   "outputs": [
    {
     "name": "stdout",
     "output_type": "stream",
     "text": [
      "17934\n",
      "17934\n"
     ]
    }
   ],
   "source": [
    "print(len(df))\n",
    "print(len(features))"
   ]
  },
  {
   "cell_type": "code",
   "execution_count": 6,
   "metadata": {},
   "outputs": [],
   "source": [
    "X=features.iloc[:,:].values"
   ]
  },
  {
   "cell_type": "code",
   "execution_count": 7,
   "metadata": {},
   "outputs": [],
   "source": [
    "#creating the dependant variable y\n",
    "y= df.loc[:,['Label']]"
   ]
  },
  {
   "cell_type": "code",
   "execution_count": 8,
   "metadata": {},
   "outputs": [],
   "source": [
    "y=y.iloc[:,0].values"
   ]
  },
  {
   "cell_type": "code",
   "execution_count": 9,
   "metadata": {},
   "outputs": [
    {
     "name": "stdout",
     "output_type": "stream",
     "text": [
      "<class 'numpy.ndarray'>\n",
      "<class 'numpy.ndarray'>\n"
     ]
    }
   ],
   "source": [
    "print(type(y))\n",
    "print(type(X))"
   ]
  },
  {
   "cell_type": "code",
   "execution_count": 10,
   "metadata": {},
   "outputs": [],
   "source": [
    "import numpy as np\n",
    "import matplotlib.pyplot as plt\n",
    "import pandas as pd"
   ]
  },
  {
   "cell_type": "code",
   "execution_count": 11,
   "metadata": {},
   "outputs": [],
   "source": [
    "# #splitting our data into train and test, 20% test and 80% train\n",
    "# from sklearn.model_selection import train_test_split\n",
    "# X_train, X_test, y_train, y_test = train_test_split(X, y, test_size = 0.20, random_state = 0)\n"
   ]
  },
  {
   "cell_type": "code",
   "execution_count": 12,
   "metadata": {},
   "outputs": [
    {
     "name": "stdout",
     "output_type": "stream",
     "text": [
      "TRAIN: [ 4368  8811  7743 ... 13460 11653 14946] TEST: [ 4925  2251  9677 ... 11113  6431 17759]\n",
      "TRAIN: [16660  7641 17514 ...  1327  7627  1487] TEST: [17522  9760 16575 ... 10618 15418   580]\n",
      "TRAIN: [12694 12735  1587 ...  9334   801 10753] TEST: [14997  2342  4988 ... 11072  1498 12384]\n",
      "TRAIN: [ 3555  8806  6674 ...  3924   182 11484] TEST: [11209 14504 12532 ... 10879 13607 11855]\n",
      "TRAIN: [  561  3795 17253 ... 14910  7366  1319] TEST: [ 2740 16403 12556 ... 11218  8167  8876]\n"
     ]
    }
   ],
   "source": [
    "#Stratified split\n",
    "from sklearn.model_selection import StratifiedShuffleSplit\n",
    "sss = StratifiedShuffleSplit( n_splits=5, test_size=0.2, random_state=0)\n",
    "for train_index, test_index in sss.split(X, y):\n",
    "    print(\"TRAIN:\", train_index, \"TEST:\", test_index)\n",
    "    X_train, X_test = X[train_index], X[test_index]\n",
    "    y_train, y_test = y[train_index], y[test_index]"
   ]
  },
  {
   "cell_type": "code",
   "execution_count": 13,
   "metadata": {},
   "outputs": [],
   "source": [
    "#Applying feature scaling so that training is faster\n",
    "from sklearn.preprocessing import StandardScaler\n",
    "sc = StandardScaler()\n",
    "X_train = sc.fit_transform(X_train)\n",
    "X_test = sc.transform(X_test)"
   ]
  },
  {
   "cell_type": "code",
   "execution_count": 14,
   "metadata": {},
   "outputs": [
    {
     "name": "stdout",
     "output_type": "stream",
     "text": [
      "Confusion matrix with Naive Bayes: \n",
      "[[ 797   36]\n",
      " [ 577 2177]]\n",
      "Accuracy with Naive Bayes: \n",
      "0.8291051017563423\n",
      "Accuracy and Standard deviation after applying k-fold cross validation, k=10\n",
      "0.8344611452091808\n",
      "0.010818282384649948\n"
     ]
    },
    {
     "data": {
      "image/png": "[encoded data removed]",
      "text/plain": [
       "<Figure size 432x288 with 1 Axes>"
      ]
     },
     "metadata": {
      "needs_background": "light"
     },
     "output_type": "display_data"
    }
   ],
   "source": [
    "#classifier naive bayes\n",
    "from sklearn.naive_bayes import GaussianNB\n",
    "classifier = GaussianNB()\n",
    "classifier.fit(X_train, y_train)\n",
    "\n",
    "y_pred = classifier.predict(X_test)\n",
    "\n",
    "# Making the Confusion Matrix\n",
    "from sklearn.metrics import confusion_matrix\n",
    "cm = confusion_matrix(y_test, y_pred)\n",
    "\n",
    "\n",
    "print(\"Confusion matrix with Naive Bayes: \")\n",
    "print(cm)\n",
    "print(\"Accuracy with Naive Bayes: \")\n",
    "\n",
    "from sklearn.metrics import accuracy_score\n",
    "print(accuracy_score(y_test, y_pred))\n",
    "\n",
    "print(\"Accuracy and Standard deviation after applying k-fold cross validation, k=10\")\n",
    "# Applying k-Fold Cross Validation\n",
    "from sklearn.model_selection import cross_val_score\n",
    "accuracies = cross_val_score(estimator = classifier, X = X_train, y = y_train, cv = 10)\n",
    "print(accuracies.mean())\n",
    "print(accuracies.std())\n",
    "\n",
    "from sklearn import  metrics\n",
    "naive_bayes = metrics.plot_roc_curve(classifier, X_test, y_test)"
   ]
  },
  {
   "cell_type": "code",
   "execution_count": 17,
   "metadata": {},
   "outputs": [
    {
     "name": "stdout",
     "output_type": "stream",
     "text": [
      "Confusion matrix with random forests: \n",
      "[[ 770   63]\n",
      " [  20 2734]]\n",
      "Accuracy with random forests: \n",
      "0.9768608865347087\n",
      "Accuracy and Standard deviation after applying k-fold cross validation, k=10\n",
      "0.9737226344767931\n",
      "0.003373131008520259\n"
     ]
    },
    {
     "data": {
      "image/png": "[encoded data removed]",
      "text/plain": [
       "<Figure size 432x288 with 1 Axes>"
      ]
     },
     "metadata": {
      "needs_background": "light"
     },
     "output_type": "display_data"
    }
   ],
   "source": [
    "from sklearn.ensemble import RandomForestClassifier\n",
    "classifier = RandomForestClassifier(n_estimators = 100, criterion = 'entropy', random_state = 0)\n",
    "classifier.fit(X_train, y_train)\n",
    "\n",
    "y_pred = classifier.predict(X_test)\n",
    "\n",
    "from sklearn.metrics import confusion_matrix\n",
    "cm = confusion_matrix(y_test, y_pred)\n",
    "\n",
    "print(\"Confusion matrix with random forests: \")\n",
    "print(cm)\n",
    "print(\"Accuracy with random forests: \")\n",
    "\n",
    "from sklearn.metrics import accuracy_score\n",
    "print(accuracy_score(y_test, y_pred))\n",
    "\n",
    "print(\"Accuracy and Standard deviation after applying k-fold cross validation, k=10\")\n",
    "# Applying k-Fold Cross Validation\n",
    "from sklearn.model_selection import cross_val_score\n",
    "accuracies = cross_val_score(estimator = classifier, X = X_train, y = y_train, cv = 10)\n",
    "print(accuracies.mean())\n",
    "print(accuracies.std())\n",
    "\n",
    "# # Applying Grid Search to find the best model and the best parameters\n",
    "# from sklearn.model_selection import GridSearchCV\n",
    "# parameters = [{'n_estimators': [10, 20, 50, 100], 'criterion': ['entropy', 'gini'], 'random_state':[0], 'max_features':['auto', None ]}\n",
    "#              ]\n",
    "    \n",
    "# grid_search = GridSearchCV(estimator = classifier,\n",
    "#                            param_grid = parameters,\n",
    "#                            scoring = 'accuracy',\n",
    "#                            cv = 10,\n",
    "#                            n_jobs = -1)\n",
    "# grid_search = grid_search.fit(X_train, y_train)\n",
    "# best_accuracy = grid_search.best_score_\n",
    "# best_parameters = grid_search.best_params_\n",
    "\n",
    "# print(\"Accuracy with Grid search :\")\n",
    "# print(best_accuracy)\n",
    "\n",
    "# print(\"Best parameters for random forests for best accuracy\")\n",
    "# print(best_parameters)\n",
    "\n",
    "from sklearn.metrics import plot_roc_curve\n",
    "ax=plt.gca()\n",
    "random_forests = metrics.plot_roc_curve(classifier, X_test, y_test, ax=ax, alpha=0.8)\n"
   ]
  },
  {
   "cell_type": "code",
   "execution_count": 18,
   "metadata": {},
   "outputs": [
    {
     "name": "stdout",
     "output_type": "stream",
     "text": [
      "Confusion matrix with decision tree: \n",
      "[[ 772   61]\n",
      " [  65 2689]]\n",
      "Accuracy with decision tree: \n",
      "0.9648731530526903\n",
      "Accuracy and Standard deviation after applying k-fold cross validation, k=10\n",
      "0.961107401629904\n",
      "0.004721677365925398\n"
     ]
    }
   ],
   "source": [
    "from sklearn.tree import DecisionTreeClassifier\n",
    "classifier = DecisionTreeClassifier(criterion = 'entropy', random_state = 0)\n",
    "classifier.fit(X_train, y_train)\n",
    "\n",
    "y_pred = classifier.predict(X_test)\n",
    "\n",
    "from sklearn.metrics import confusion_matrix\n",
    "cm = confusion_matrix(y_test, y_pred)\n",
    "\n",
    "print(\"Confusion matrix with decision tree: \")\n",
    "print(cm)\n",
    "print(\"Accuracy with decision tree: \")\n",
    "\n",
    "from sklearn.metrics import accuracy_score\n",
    "print(accuracy_score(y_test, y_pred))\n",
    "\n",
    "print(\"Accuracy and Standard deviation after applying k-fold cross validation, k=10\")\n",
    "# Applying k-Fold Cross Validation\n",
    "from sklearn.model_selection import cross_val_score\n",
    "accuracies = cross_val_score(estimator = classifier, X = X_train, y = y_train, cv = 10)\n",
    "print(accuracies.mean())\n",
    "print(accuracies.std())\n",
    "\n",
    "from sklearn import  metrics\n",
    "decision_tree = metrics.plot_roc_curve(classifier, X_test, y_test,ax=ax, alpha=0.8)"
   ]
  },
  {
   "cell_type": "code",
   "execution_count": 19,
   "metadata": {},
   "outputs": [
    {
     "data": {
      "text/plain": [
       "array([8.45485564e-03, 8.13992030e-03, 7.05638074e-03, 6.84155521e-02,\n",
       "       3.93083807e-03, 0.00000000e+00, 0.00000000e+00, 6.10779750e-03,\n",
       "       2.45644888e-04, 1.82907458e-02, 5.53213199e-04, 1.92946917e-03,\n",
       "       5.29877535e-04, 9.38119474e-03, 8.51841199e-03, 2.54909701e-03,\n",
       "       7.50024461e-03, 6.20370486e-03, 7.64208544e-03, 6.84666899e-03,\n",
       "       8.45426939e-03, 9.29312437e-03, 6.25216691e-03, 5.88912394e-03,\n",
       "       7.12144122e-01, 2.90621300e-03, 7.12169140e-02, 1.15483636e-02])"
      ]
     },
     "execution_count": 19,
     "metadata": {},
     "output_type": "execute_result"
    }
   ],
   "source": [
    "classifier.feature_importances_"
   ]
  },
  {
   "cell_type": "code",
   "execution_count": 20,
   "metadata": {},
   "outputs": [
    {
     "name": "stdout",
     "output_type": "stream",
     "text": [
      "Confusion matrix with K Nearest Neighbours: \n",
      "[[ 671  162]\n",
      " [ 115 2639]]\n",
      "Accuracy with K nearest Neighbours: \n",
      "0.9227766936158349\n",
      "Accuracy and Standard deviation after applying k-fold cross validation, k=10\n",
      "0.9239557972387853\n",
      "0.005899631305788924\n"
     ]
    },
    {
     "data": {
      "image/png": "[encoded data removed]",
      "text/plain": [
       "<Figure size 432x288 with 1 Axes>"
      ]
     },
     "metadata": {
      "needs_background": "light"
     },
     "output_type": "display_data"
    }
   ],
   "source": [
    "from sklearn.neighbors import KNeighborsClassifier\n",
    "classifier = KNeighborsClassifier(n_neighbors = 110, p=1, algorithm='auto')\n",
    "classifier.fit(X_train, y_train)\n",
    "\n",
    "y_pred = classifier.predict(X_test)\n",
    "\n",
    "from sklearn.metrics import confusion_matrix\n",
    "cm = confusion_matrix(y_test, y_pred)\n",
    "\n",
    "print(\"Confusion matrix with K Nearest Neighbours: \")\n",
    "print(cm)\n",
    "print(\"Accuracy with K nearest Neighbours: \")\n",
    "\n",
    "from sklearn.metrics import accuracy_score\n",
    "print(accuracy_score(y_test, y_pred))\n",
    "\n",
    "print(\"Accuracy and Standard deviation after applying k-fold cross validation, k=10\")\n",
    "# Applying k-Fold Cross Validation\n",
    "from sklearn.model_selection import cross_val_score\n",
    "accuracies = cross_val_score(estimator = classifier, X = X_train, y = y_train, cv = 10)\n",
    "print(accuracies.mean())\n",
    "print(accuracies.std())\n",
    "\n",
    "# # Applying Grid Search to find the best model and the best parameters\n",
    "# from sklearn.model_selection import GridSearchCV\n",
    "# parameters = [{'n_neighbors': [90, 110, 100], 'metric': ['minkowski'], 'p':[1], \"algorithm\":['auto'] }]\n",
    "# grid_search = GridSearchCV(estimator = classifier,\n",
    "#                            param_grid = parameters,\n",
    "#                            scoring = 'accuracy',\n",
    "#                            cv = 10,\n",
    "#                            n_jobs = -1)\n",
    "# grid_search = grid_search.fit(X_train, y_train)\n",
    "# best_accuracy = grid_search.best_score_\n",
    "# best_parameters = grid_search.best_params_\n",
    "\n",
    "# print(\"Accuracy with Grid search :\")\n",
    "# print(best_accuracy)\n",
    "\n",
    "# print(\"Best parameters for KNN for best accuracy\")\n",
    "# print(best_parameters)\n",
    "\n",
    "from sklearn import  metrics\n",
    "KNN = metrics.plot_roc_curve(classifier, X_test, y_test)"
   ]
  },
  {
   "cell_type": "code",
   "execution_count": 21,
   "metadata": {},
   "outputs": [
    {
     "name": "stdout",
     "output_type": "stream",
     "text": [
      "Confusion matrix with XGBoost: \n",
      "[[ 775   58]\n",
      " [  30 2724]]\n",
      "Accuracy with XGBoost: \n",
      "0.9754669640367996\n",
      "Accuracy and Standard deviation after applying k-fold cross validation, k=10\n",
      "0.9731650459959471\n",
      "0.0028956466793311907\n"
     ]
    },
    {
     "data": {
      "image/png": "[encoded data removed]",
      "text/plain": [
       "<Figure size 432x288 with 1 Axes>"
      ]
     },
     "metadata": {
      "needs_background": "light"
     },
     "output_type": "display_data"
    }
   ],
   "source": [
    "import xgboost\n",
    "from xgboost import XGBClassifier\n",
    "classifier = XGBClassifier()\n",
    "classifier.fit(X_train, y_train)\n",
    "\n",
    "y_pred = classifier.predict(X_test)\n",
    "\n",
    "from sklearn.metrics import confusion_matrix\n",
    "cm = confusion_matrix(y_test, y_pred)\n",
    "\n",
    "print(\"Confusion matrix with XGBoost: \")\n",
    "print(cm)\n",
    "print(\"Accuracy with XGBoost: \")\n",
    "\n",
    "from sklearn.metrics import accuracy_score\n",
    "print(accuracy_score(y_test, y_pred))\n",
    "\n",
    "print(\"Accuracy and Standard deviation after applying k-fold cross validation, k=10\")\n",
    "# Applying k-Fold Cross Validation\n",
    "from sklearn.model_selection import cross_val_score\n",
    "accuracies = cross_val_score(estimator = classifier, X = X_train, y = y_train, cv = 10)\n",
    "print(accuracies.mean())\n",
    "print(accuracies.std())\n",
    "\n",
    "from sklearn import  metrics\n",
    "XGboost = metrics.plot_roc_curve(classifier, X_test, y_test)\n"
   ]
  },
  {
   "cell_type": "code",
   "execution_count": 22,
   "metadata": {},
   "outputs": [
    {
     "name": "stdout",
     "output_type": "stream",
     "text": [
      "Confusion matrix with kernel SVM: \n",
      "[[ 740   93]\n",
      " [  65 2689]]\n",
      "Accuracy with kernel SVM: \n",
      "0.9559520490660719\n",
      "Accuracy and Standard deviation after applying k-fold cross validation, k=10\n",
      "0.956715651256931\n",
      "0.0027611446071293968\n"
     ]
    },
    {
     "data": {
      "image/png": "[encoded data removed]",
      "text/plain": [
       "<Figure size 432x288 with 1 Axes>"
      ]
     },
     "metadata": {
      "needs_background": "light"
     },
     "output_type": "display_data"
    }
   ],
   "source": [
    "from sklearn.svm import SVC\n",
    "classifier = SVC(kernel = 'rbf', random_state = 0, gamma='scale', C=10)\n",
    "classifier.fit(X_train, y_train)\n",
    "\n",
    "y_pred = classifier.predict(X_test)\n",
    "\n",
    "from sklearn.metrics import confusion_matrix\n",
    "cm = confusion_matrix(y_test, y_pred)\n",
    "\n",
    "print(\"Confusion matrix with kernel SVM: \")\n",
    "print(cm)\n",
    "print(\"Accuracy with kernel SVM: \")\n",
    "\n",
    "from sklearn.metrics import accuracy_score\n",
    "print(accuracy_score(y_test, y_pred))\n",
    "\n",
    "print(\"Accuracy and Standard deviation after applying k-fold cross validation, k=10\")\n",
    "# Applying k-Fold Cross Validation\n",
    "from sklearn.model_selection import cross_val_score\n",
    "accuracies = cross_val_score(estimator = classifier, X = X_train, y = y_train, cv = 10)\n",
    "print(accuracies.mean())\n",
    "print(accuracies.std())\n",
    "\n",
    "from sklearn import  metrics\n",
    "svm = metrics.plot_roc_curve(classifier, X_test, y_test)"
   ]
  },
  {
   "cell_type": "code",
   "execution_count": 24,
   "metadata": {},
   "outputs": [
    {
     "name": "stdout",
     "output_type": "stream",
     "text": [
      "Accuracy with Grid search :\n",
      "0.956715651256931\n",
      "Best parameters for SVM for best accuracy\n",
      "{'C': 10, 'gamma': 'scale', 'kernel': 'rbf'}\n"
     ]
    }
   ],
   "source": [
    "\n",
    "# # Applying Grid Search to find the best model and the best parameters\n",
    "# from sklearn.model_selection import GridSearchCV\n",
    "# parameters = [ {'C': [1, 10, 100, 1000], 'kernel': ['rbf'], 'gamma':['scale','auto']}]\n",
    "# grid_search = GridSearchCV(estimator = classifier,\n",
    "#                            param_grid = parameters,\n",
    "#                            scoring = 'accuracy',\n",
    "#                            cv = 10,\n",
    "#                            n_jobs = -1)\n",
    "# grid_search = grid_search.fit(X_train, y_train)\n",
    "# best_accuracy = grid_search.best_score_\n",
    "# best_parameters = grid_search.best_params_\n",
    "\n",
    "# print(\"Accuracy with Grid search :\")\n",
    "# print(best_accuracy)\n",
    "\n",
    "# print(\"Best parameters for SVM for best accuracy\")\n",
    "# print(best_parameters)"
   ]
  },
  {
   "cell_type": "code",
   "execution_count": 25,
   "metadata": {},
   "outputs": [
    {
     "name": "stderr",
     "output_type": "stream",
     "text": [
      "The PostScript backend does not support transparency; partially transparent artists will be rendered opaque.\n",
      "The PostScript backend does not support transparency; partially transparent artists will be rendered opaque.\n",
      "The PostScript backend does not support transparency; partially transparent artists will be rendered opaque.\n",
      "The PostScript backend does not support transparency; partially transparent artists will be rendered opaque.\n",
      "The PostScript backend does not support transparency; partially transparent artists will be rendered opaque.\n",
      "The PostScript backend does not support transparency; partially transparent artists will be rendered opaque.\n",
      "The PostScript backend does not support transparency; partially transparent artists will be rendered opaque.\n",
      "The PostScript backend does not support transparency; partially transparent artists will be rendered opaque.\n",
      "The PostScript backend does not support transparency; partially transparent artists will be rendered opaque.\n",
      "The PostScript backend does not support transparency; partially transparent artists will be rendered opaque.\n",
      "The PostScript backend does not support transparency; partially transparent artists will be rendered opaque.\n",
      "The PostScript backend does not support transparency; partially transparent artists will be rendered opaque.\n",
      "The PostScript backend does not support transparency; partially transparent artists will be rendered opaque.\n",
      "The PostScript backend does not support transparency; partially transparent artists will be rendered opaque.\n",
      "The PostScript backend does not support transparency; partially transparent artists will be rendered opaque.\n",
      "The PostScript backend does not support transparency; partially transparent artists will be rendered opaque.\n",
      "The PostScript backend does not support transparency; partially transparent artists will be rendered opaque.\n",
      "The PostScript backend does not support transparency; partially transparent artists will be rendered opaque.\n",
      "The PostScript backend does not support transparency; partially transparent artists will be rendered opaque.\n",
      "The PostScript backend does not support transparency; partially transparent artists will be rendered opaque.\n",
      "The PostScript backend does not support transparency; partially transparent artists will be rendered opaque.\n",
      "The PostScript backend does not support transparency; partially transparent artists will be rendered opaque.\n",
      "The PostScript backend does not support transparency; partially transparent artists will be rendered opaque.\n",
      "The PostScript backend does not support transparency; partially transparent artists will be rendered opaque.\n",
      "The PostScript backend does not support transparency; partially transparent artists will be rendered opaque.\n",
      "The PostScript backend does not support transparency; partially transparent artists will be rendered opaque.\n",
      "The PostScript backend does not support transparency; partially transparent artists will be rendered opaque.\n",
      "The PostScript backend does not support transparency; partially transparent artists will be rendered opaque.\n"
     ]
    },
    {
     "data": {
      "image/png": "[encoded data removed]",
      "text/plain": [
       "<Figure size 432x288 with 1 Axes>"
      ]
     },
     "metadata": {
      "needs_background": "light"
     },
     "output_type": "display_data"
    }
   ],
   "source": [
    "#plotting the graphs\n",
    "ax=plt.gca()\n",
    "svm.plot(ax=ax, alpha=0.8)\n",
    "naive_bayes.plot(ax=ax, alpha=0.8)\n",
    "XGboost.plot(ax=ax, alpha=0.8)\n",
    "random_forests.plot(ax=ax, alpha=0.8)\n",
    "decision_tree.plot(ax=ax, alpha=0.8)\n",
    "KNN.plot(ax=ax, alpha=0.8)\n",
    "fig = plt.gcf()\n",
    "fig.savefig('FakeNewsMaster-FS1.eps',transparent=True, bbox_inches='tight', dpi=400)\n",
    "plt.show()"
   ]
  },
  {
   "cell_type": "code",
   "execution_count": null,
   "metadata": {},
   "outputs": [],
   "source": []
  }
 ],
 "metadata": {
  "kernelspec": {
   "display_name": "Python 3",
   "language": "python",
   "name": "python3"
  },
  "language_info": {
   "codemirror_mode": {
    "name": "ipython",
    "version": 3
   },
   "file_extension": ".py",
   "mimetype": "text/x-python",
   "name": "python",
   "nbconvert_exporter": "python",
   "pygments_lexer": "ipython3",
   "version": "3.7.4"
  }
 },
 "nbformat": 4,
 "nbformat_minor": 2
}
