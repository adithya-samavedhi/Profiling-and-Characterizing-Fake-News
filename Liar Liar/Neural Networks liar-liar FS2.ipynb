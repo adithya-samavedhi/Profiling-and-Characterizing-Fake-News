{
 "cells": [
  {
   "cell_type": "code",
   "execution_count": 1,
   "metadata": {},
   "outputs": [
    {
     "name": "stderr",
     "output_type": "stream",
     "text": [
      "C:\\Users\\adith\\anaconda3\\envs\\ANZ\\lib\\site-packages\\h5py\\__init__.py:34: FutureWarning: Conversion of the second argument of issubdtype from `float` to `np.floating` is deprecated. In future, it will be treated as `np.float64 == np.dtype(float).type`.\n",
      "  from ._conv import register_converters as _register_converters\n",
      "Using TensorFlow backend.\n"
     ]
    }
   ],
   "source": [
    "from keras.models import Sequential \n",
    "from keras.layers import Dense \n",
    "from keras.utils import np_utils\n",
    "from sklearn.preprocessing import LabelEncoder\n",
    "from keras.utils.np_utils import to_categorical\n",
    "from sklearn.utils import shuffle\n",
    "import pandas as pd\n",
    "import numpy as np\n",
    "import matplotlib.pyplot as plt\n",
    "from sklearn import preprocessing, model_selection\n",
    "from sklearn.preprocessing import StandardScaler"
   ]
  },
  {
   "cell_type": "code",
   "execution_count": 2,
   "metadata": {},
   "outputs": [],
   "source": [
    "features = pd.read_pickle('Liar-Liar-FS-nodup.pkl')\n",
    "features.fillna(0,inplace=True)"
   ]
  },
  {
   "cell_type": "code",
   "execution_count": 3,
   "metadata": {},
   "outputs": [
    {
     "data": {
      "text/plain": [
       "['Statement ID',\n",
       " 'Label',\n",
       " 'Statement',\n",
       " 'Subject(s)',\n",
       " 'Speaker',\n",
       " 'Speakers Job Title',\n",
       " 'State Info.',\n",
       " 'Party Affiliation',\n",
       " 'Barely True Counts',\n",
       " 'False Counts',\n",
       " 'Half True Counts',\n",
       " 'Mostly True Counts',\n",
       " 'Pants on fire counts',\n",
       " 'Context',\n",
       " 'Grammatical errors',\n",
       " 'pos_tag',\n",
       " 'clean_text',\n",
       " 'TF',\n",
       " 'TF_final',\n",
       " 'out_of_context_terms',\n",
       " 'out_context_final',\n",
       " 'Textrazor_category',\n",
       " 'Textrazor_topic',\n",
       " 'Topics_category',\n",
       " 'Topics_topic',\n",
       " 'score_category',\n",
       " 'score_topic',\n",
       " 'category_score_final',\n",
       " 'category_list_final',\n",
       " 'topic_score_final',\n",
       " 'topic_list_final',\n",
       " 'formula 1',\n",
       " 'formula 2',\n",
       " 'bigram TF',\n",
       " 'bigram TF final',\n",
       " 'No. of stop_words',\n",
       " 'arts, culture and entertainment',\n",
       " 'Conspiracy',\n",
       " 'crime, law and justice',\n",
       " 'Criticism of journalism',\n",
       " 'Advertising video on demand',\n",
       " 'computing and information technology',\n",
       " 'agriculture',\n",
       " 'energy and resource',\n",
       " 'economy, business and finance',\n",
       " 'Harassment',\n",
       " 'Cyberspace',\n",
       " 'religion and belief',\n",
       " 'Politics and technology',\n",
       " 'Social media',\n",
       " 'science and technology',\n",
       " 'Social epistemology',\n",
       " 'social issue',\n",
       " 'environmental issue',\n",
       " 'Academia',\n",
       " 'Attacks',\n",
       " 'Feminism',\n",
       " 'Sports',\n",
       " 'Internet-Cyberspace',\n",
       " 'Science',\n",
       " 'Sixltr',\n",
       " 'conj',\n",
       " 'interrog',\n",
       " 'number',\n",
       " 'negemo',\n",
       " 'social',\n",
       " 'certain',\n",
       " 'percept',\n",
       " 'focuspast',\n",
       " 'focuspresent',\n",
       " 'time',\n",
       " 'Arts, Culture, Entertainment, Sports',\n",
       " 'Business and Industrial',\n",
       " 'Law, Government and Politics',\n",
       " 'religion & social epistemology',\n",
       " 'ORG',\n",
       " 'ORDINAL',\n",
       " 'PERSON',\n",
       " 'GPE',\n",
       " 'DATE',\n",
       " 'EVENT',\n",
       " 'MONEY',\n",
       " 'FAC',\n",
       " 'NORP',\n",
       " 'CARDINAL',\n",
       " 'LAW',\n",
       " 'PERCENT',\n",
       " 'TIME',\n",
       " 'LOC',\n",
       " 'PRODUCT',\n",
       " 'QUANTITY',\n",
       " 'WORK_OF_ART',\n",
       " 'LANGUAGE']"
      ]
     },
     "execution_count": 3,
     "metadata": {},
     "output_type": "execute_result"
    }
   ],
   "source": [
    "df= pd.read_pickle('Liar-Liar-dup.pkl')\n",
    "list(df.columns)"
   ]
  },
  {
   "cell_type": "code",
   "execution_count": 4,
   "metadata": {},
   "outputs": [],
   "source": [
    "# features.drop(columns=['Unnamed: 0'], inplace=True)"
   ]
  },
  {
   "cell_type": "code",
   "execution_count": 5,
   "metadata": {},
   "outputs": [
    {
     "name": "stdout",
     "output_type": "stream",
     "text": [
      "<class 'pandas.core.frame.DataFrame'>\n",
      "RangeIndex: 10223 entries, 0 to 10222\n",
      "Data columns (total 28 columns):\n",
      "TF                                      10223 non-null float64\n",
      "Bigram TF                               10223 non-null float64\n",
      "No. of Stop_words                       10223 non-null float64\n",
      "Out of Context                          10223 non-null float64\n",
      "Arts, Culture, Entertainment, Sports    10223 non-null float64\n",
      "Conspiracy                              10223 non-null float64\n",
      "Business and Industrial                 10223 non-null float64\n",
      "economy, business and finance           10223 non-null float64\n",
      "Religion and belief                     10223 non-null float64\n",
      "Law, Government and Politics            10223 non-null float64\n",
      "Education                               10223 non-null float64\n",
      "Technology and Computing                10223 non-null float64\n",
      "Science                                 10223 non-null float64\n",
      "Sixltr                                  10223 non-null float64\n",
      "conj                                    10223 non-null float64\n",
      "interrog                                10223 non-null float64\n",
      "number                                  10223 non-null float64\n",
      "negemo                                  10223 non-null float64\n",
      "social                                  10223 non-null float64\n",
      "certain                                 10223 non-null float64\n",
      "percept                                 10223 non-null float64\n",
      "focuspast                               10223 non-null float64\n",
      "focuspresent                            10223 non-null float64\n",
      "time                                    10223 non-null float64\n",
      "PERSON                                  10223 non-null float64\n",
      "ORG                                     10223 non-null float64\n",
      "TIME                                    10223 non-null float64\n",
      "GPE                                     10223 non-null float64\n",
      "dtypes: float64(28)\n",
      "memory usage: 2.2 MB\n"
     ]
    }
   ],
   "source": [
    "features.info()"
   ]
  },
  {
   "cell_type": "code",
   "execution_count": 6,
   "metadata": {},
   "outputs": [],
   "source": [
    "X=features.loc[:,['TF','Bigram TF','No. of Stop_words', 'Out of Context', 'Religion and belief', 'Law, Government and Politics',\n",
    " 'Sixltr', 'conj', 'interrog', 'number', 'negemo', 'social', 'certain', 'percept', 'focuspast', 'focuspresent', 'time','PERSON','ORG','TIME','GPE']]"
   ]
  },
  {
   "cell_type": "code",
   "execution_count": 7,
   "metadata": {},
   "outputs": [],
   "source": [
    "#creating the dependant variable y\n",
    "y= df.loc[:,['Label']]\n",
    "#mapping the labels to respective numeric terms\n",
    "dict = {'FALSE' : 0, 'TRUE' : 1, 'pants-fire' : 0, 'half-true': 1, 'mostly-true':1, 'barely-true': 0}\n",
    "y=y.replace({\"Label\": dict})"
   ]
  },
  {
   "cell_type": "code",
   "execution_count": 8,
   "metadata": {},
   "outputs": [
    {
     "data": {
      "text/html": [
       "<div>\n",
       "<style scoped>\n",
       "    .dataframe tbody tr th:only-of-type {\n",
       "        vertical-align: middle;\n",
       "    }\n",
       "\n",
       "    .dataframe tbody tr th {\n",
       "        vertical-align: top;\n",
       "    }\n",
       "\n",
       "    .dataframe thead th {\n",
       "        text-align: right;\n",
       "    }\n",
       "</style>\n",
       "<table border=\"1\" class=\"dataframe\">\n",
       "  <thead>\n",
       "    <tr style=\"text-align: right;\">\n",
       "      <th></th>\n",
       "      <th>Label</th>\n",
       "    </tr>\n",
       "  </thead>\n",
       "  <tbody>\n",
       "    <tr>\n",
       "      <td>0</td>\n",
       "      <td>0</td>\n",
       "    </tr>\n",
       "    <tr>\n",
       "      <td>1</td>\n",
       "      <td>1</td>\n",
       "    </tr>\n",
       "    <tr>\n",
       "      <td>2</td>\n",
       "      <td>1</td>\n",
       "    </tr>\n",
       "    <tr>\n",
       "      <td>3</td>\n",
       "      <td>0</td>\n",
       "    </tr>\n",
       "    <tr>\n",
       "      <td>4</td>\n",
       "      <td>1</td>\n",
       "    </tr>\n",
       "    <tr>\n",
       "      <td>...</td>\n",
       "      <td>...</td>\n",
       "    </tr>\n",
       "    <tr>\n",
       "      <td>10218</td>\n",
       "      <td>1</td>\n",
       "    </tr>\n",
       "    <tr>\n",
       "      <td>10219</td>\n",
       "      <td>1</td>\n",
       "    </tr>\n",
       "    <tr>\n",
       "      <td>10220</td>\n",
       "      <td>1</td>\n",
       "    </tr>\n",
       "    <tr>\n",
       "      <td>10221</td>\n",
       "      <td>0</td>\n",
       "    </tr>\n",
       "    <tr>\n",
       "      <td>10222</td>\n",
       "      <td>0</td>\n",
       "    </tr>\n",
       "  </tbody>\n",
       "</table>\n",
       "<p>10223 rows × 1 columns</p>\n",
       "</div>"
      ],
      "text/plain": [
       "       Label\n",
       "0          0\n",
       "1          1\n",
       "2          1\n",
       "3          0\n",
       "4          1\n",
       "...      ...\n",
       "10218      1\n",
       "10219      1\n",
       "10220      1\n",
       "10221      0\n",
       "10222      0\n",
       "\n",
       "[10223 rows x 1 columns]"
      ]
     },
     "execution_count": 8,
     "metadata": {},
     "output_type": "execute_result"
    }
   ],
   "source": [
    "y"
   ]
  },
  {
   "cell_type": "code",
   "execution_count": 9,
   "metadata": {},
   "outputs": [],
   "source": [
    "y=y.iloc[:,0].values"
   ]
  },
  {
   "cell_type": "code",
   "execution_count": 10,
   "metadata": {},
   "outputs": [
    {
     "data": {
      "text/plain": [
       "10223"
      ]
     },
     "execution_count": 10,
     "metadata": {},
     "output_type": "execute_result"
    }
   ],
   "source": [
    "len(X)"
   ]
  },
  {
   "cell_type": "code",
   "execution_count": 11,
   "metadata": {},
   "outputs": [
    {
     "name": "stdout",
     "output_type": "stream",
     "text": [
      "<class 'numpy.ndarray'>\n",
      "<class 'pandas.core.frame.DataFrame'>\n"
     ]
    }
   ],
   "source": [
    "print(type(y))\n",
    "print(type(X))"
   ]
  },
  {
   "cell_type": "code",
   "execution_count": 12,
   "metadata": {},
   "outputs": [],
   "source": [
    "train_x, test_x, train_y, test_y = model_selection.train_test_split(X,y,test_size = 0.2, random_state = 0)"
   ]
  },
  {
   "cell_type": "code",
   "execution_count": 13,
   "metadata": {},
   "outputs": [],
   "source": [
    "from sklearn.preprocessing import StandardScaler\n",
    "sc = StandardScaler()\n",
    "train_x = sc.fit_transform(train_x)\n",
    "test_x = sc.transform(test_x)"
   ]
  },
  {
   "cell_type": "code",
   "execution_count": 14,
   "metadata": {},
   "outputs": [
    {
     "data": {
      "text/plain": [
       "8178"
      ]
     },
     "execution_count": 14,
     "metadata": {},
     "output_type": "execute_result"
    }
   ],
   "source": [
    "len(train_y)"
   ]
  },
  {
   "cell_type": "code",
   "execution_count": 36,
   "metadata": {},
   "outputs": [],
   "source": [
    "input_dim = 21\n",
    "\n",
    "from keras.optimizers import SGD\n",
    "model = Sequential()\n",
    "model.add(Dense(32, input_dim = input_dim ,kernel_initializer='he_uniform', bias_initializer='zeros', activation='relu'))\n",
    "model.add(Dense(32,kernel_initializer='he_uniform', bias_initializer='zeros', activation='relu'))\n",
    "model.add(Dense(8,kernel_initializer='he_uniform', bias_initializer='zeros', activation = 'relu'))\n",
    "# model.add(Dense(10, activation = 'relu'))\n",
    "model.add(Dense(1, activation='sigmoid'))\n",
    "model.compile(loss='binary_crossentropy', optimizer=SGD(lr=0.005), metrics=['accuracy'])"
   ]
  },
  {
   "cell_type": "code",
   "execution_count": 37,
   "metadata": {},
   "outputs": [
    {
     "name": "stdout",
     "output_type": "stream",
     "text": [
      "Epoch 1/45\n",
      "8178/8178 [==============================] - 0s 50us/step - loss: 0.7139 - accuracy: 0.5112\n",
      "Epoch 2/45\n",
      "8178/8178 [==============================] - 0s 36us/step - loss: 0.6846 - accuracy: 0.5583\n",
      "Epoch 3/45\n",
      "8178/8178 [==============================] - 0s 36us/step - loss: 0.6819 - accuracy: 0.5644\n",
      "Epoch 4/45\n",
      "8178/8178 [==============================] - 0s 35us/step - loss: 0.6800 - accuracy: 0.5658\n",
      "Epoch 5/45\n",
      "8178/8178 [==============================] - 0s 36us/step - loss: 0.6786 - accuracy: 0.5695\n",
      "Epoch 6/45\n",
      "8178/8178 [==============================] - 0s 35us/step - loss: 0.6773 - accuracy: 0.5725\n",
      "Epoch 7/45\n",
      "8178/8178 [==============================] - 0s 36us/step - loss: 0.6761 - accuracy: 0.5732\n",
      "Epoch 8/45\n",
      "8178/8178 [==============================] - 0s 36us/step - loss: 0.6751 - accuracy: 0.5747\n",
      "Epoch 9/45\n",
      "8178/8178 [==============================] - 0s 35us/step - loss: 0.6742 - accuracy: 0.5769\n",
      "Epoch 10/45\n",
      "8178/8178 [==============================] - 0s 36us/step - loss: 0.6734 - accuracy: 0.5779\n",
      "Epoch 11/45\n",
      "8178/8178 [==============================] - 0s 35us/step - loss: 0.6727 - accuracy: 0.5787\n",
      "Epoch 12/45\n",
      "8178/8178 [==============================] - 0s 36us/step - loss: 0.6720 - accuracy: 0.5794\n",
      "Epoch 13/45\n",
      "8178/8178 [==============================] - 0s 35us/step - loss: 0.6714 - accuracy: 0.5824\n",
      "Epoch 14/45\n",
      "8178/8178 [==============================] - 0s 40us/step - loss: 0.6708 - accuracy: 0.5845\n",
      "Epoch 15/45\n",
      "8178/8178 [==============================] - 0s 39us/step - loss: 0.6703 - accuracy: 0.5814\n",
      "Epoch 16/45\n",
      "8178/8178 [==============================] - 0s 43us/step - loss: 0.6698 - accuracy: 0.5831\n",
      "Epoch 17/45\n",
      "8178/8178 [==============================] - 0s 36us/step - loss: 0.6692 - accuracy: 0.5846\n",
      "Epoch 18/45\n",
      "8178/8178 [==============================] - 0s 40us/step - loss: 0.6688 - accuracy: 0.5856\n",
      "Epoch 19/45\n",
      "8178/8178 [==============================] - 0s 35us/step - loss: 0.6685 - accuracy: 0.5873\n",
      "Epoch 20/45\n",
      "8178/8178 [==============================] - 0s 36us/step - loss: 0.6680 - accuracy: 0.5872\n",
      "Epoch 21/45\n",
      "8178/8178 [==============================] - 0s 40us/step - loss: 0.6676 - accuracy: 0.5871\n",
      "Epoch 22/45\n",
      "8178/8178 [==============================] - 0s 37us/step - loss: 0.6674 - accuracy: 0.5871\n",
      "Epoch 23/45\n",
      "8178/8178 [==============================] - 0s 40us/step - loss: 0.6669 - accuracy: 0.5900\n",
      "Epoch 24/45\n",
      "8178/8178 [==============================] - 0s 37us/step - loss: 0.6666 - accuracy: 0.5889\n",
      "Epoch 25/45\n",
      "8178/8178 [==============================] - 0s 35us/step - loss: 0.6662 - accuracy: 0.5898\n",
      "Epoch 26/45\n",
      "8178/8178 [==============================] - 0s 41us/step - loss: 0.6659 - accuracy: 0.5905\n",
      "Epoch 27/45\n",
      "8178/8178 [==============================] - 0s 36us/step - loss: 0.6655 - accuracy: 0.5907\n",
      "Epoch 28/45\n",
      "8178/8178 [==============================] - 0s 35us/step - loss: 0.6649 - accuracy: 0.5910\n",
      "Epoch 29/45\n",
      "8178/8178 [==============================] - 0s 36us/step - loss: 0.6649 - accuracy: 0.5906\n",
      "Epoch 30/45\n",
      "8178/8178 [==============================] - 0s 36us/step - loss: 0.6644 - accuracy: 0.5929\n",
      "Epoch 31/45\n",
      "8178/8178 [==============================] - 0s 36us/step - loss: 0.6642 - accuracy: 0.5929\n",
      "Epoch 32/45\n",
      "8178/8178 [==============================] - 0s 42us/step - loss: 0.6638 - accuracy: 0.5917\n",
      "Epoch 33/45\n",
      "8178/8178 [==============================] - 0s 42us/step - loss: 0.6635 - accuracy: 0.5916\n",
      "Epoch 34/45\n",
      "8178/8178 [==============================] - 0s 53us/step - loss: 0.6632 - accuracy: 0.5929\n",
      "Epoch 35/45\n",
      "8178/8178 [==============================] - 0s 36us/step - loss: 0.6630 - accuracy: 0.5961\n",
      "Epoch 36/45\n",
      "8178/8178 [==============================] - 0s 36us/step - loss: 0.6626 - accuracy: 0.5956\n",
      "Epoch 37/45\n",
      "8178/8178 [==============================] - 0s 36us/step - loss: 0.6623 - accuracy: 0.5951\n",
      "Epoch 38/45\n",
      "8178/8178 [==============================] - 0s 41us/step - loss: 0.6621 - accuracy: 0.5970\n",
      "Epoch 39/45\n",
      "8178/8178 [==============================] - 0s 36us/step - loss: 0.6617 - accuracy: 0.5944\n",
      "Epoch 40/45\n",
      "8178/8178 [==============================] - 0s 42us/step - loss: 0.6616 - accuracy: 0.5972\n",
      "Epoch 41/45\n",
      "8178/8178 [==============================] - 0s 36us/step - loss: 0.6612 - accuracy: 0.6000\n",
      "Epoch 42/45\n",
      "8178/8178 [==============================] - 0s 42us/step - loss: 0.6611 - accuracy: 0.5967\n",
      "Epoch 43/45\n",
      "8178/8178 [==============================] - 0s 36us/step - loss: 0.6607 - accuracy: 0.5975\n",
      "Epoch 44/45\n",
      "8178/8178 [==============================] - 0s 39us/step - loss: 0.6605 - accuracy: 0.5988\n",
      "Epoch 45/45\n",
      "8178/8178 [==============================] - 0s 37us/step - loss: 0.6602 - accuracy: 0.6015\n"
     ]
    },
    {
     "data": {
      "text/plain": [
       "<keras.callbacks.callbacks.History at 0x20354aebac8>"
      ]
     },
     "execution_count": 37,
     "metadata": {},
     "output_type": "execute_result"
    }
   ],
   "source": [
    "model.fit(train_x, train_y, epochs = 45, batch_size = 24, verbose=1)"
   ]
  },
  {
   "cell_type": "code",
   "execution_count": 38,
   "metadata": {},
   "outputs": [
    {
     "name": "stdout",
     "output_type": "stream",
     "text": [
      "2045/2045 [==============================] - 0s 36us/step\n",
      "\n",
      "accuracy: 57.02%\n"
     ]
    }
   ],
   "source": [
    "scores = model.evaluate(test_x, test_y)\n",
    "print(\"\\n%s: %.2f%%\" % (model.metrics_names[1], scores[1]*100))"
   ]
  },
  {
   "cell_type": "code",
   "execution_count": 39,
   "metadata": {},
   "outputs": [],
   "source": [
    "y_pred= model.predict(test_x)"
   ]
  },
  {
   "cell_type": "code",
   "execution_count": 40,
   "metadata": {},
   "outputs": [],
   "source": [
    "y_pred = (y_pred > 0.5)"
   ]
  },
  {
   "cell_type": "code",
   "execution_count": 41,
   "metadata": {},
   "outputs": [
    {
     "name": "stdout",
     "output_type": "stream",
     "text": [
      "Confusion matrix: \n",
      "[[268 640]\n",
      " [239 898]]\n"
     ]
    }
   ],
   "source": [
    "from sklearn.metrics import confusion_matrix\n",
    "cm = confusion_matrix(test_y, y_pred)\n",
    "\n",
    "print(\"Confusion matrix: \")\n",
    "print(cm)"
   ]
  },
  {
   "cell_type": "code",
   "execution_count": null,
   "metadata": {},
   "outputs": [],
   "source": []
  },
  {
   "cell_type": "code",
   "execution_count": null,
   "metadata": {},
   "outputs": [],
   "source": []
  }
 ],
 "metadata": {
  "kernelspec": {
   "display_name": "ANZ",
   "language": "python",
   "name": "anz"
  },
  "language_info": {
   "codemirror_mode": {
    "name": "ipython",
    "version": 3
   },
   "file_extension": ".py",
   "mimetype": "text/x-python",
   "name": "python",
   "nbconvert_exporter": "python",
   "pygments_lexer": "ipython3",
   "version": "3.6.9"
  }
 },
 "nbformat": 4,
 "nbformat_minor": 4
}
