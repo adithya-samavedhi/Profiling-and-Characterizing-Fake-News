{
 "cells": [
  {
   "cell_type": "code",
   "execution_count": 2,
   "metadata": {},
   "outputs": [],
   "source": [
    "from keras.models import Sequential \n",
    "from keras.layers import Dense \n",
    "from keras.utils import np_utils\n",
    "from sklearn.preprocessing import LabelEncoder\n",
    "from keras.utils.np_utils import to_categorical\n",
    "from sklearn.utils import shuffle\n",
    "import pandas as pd\n",
    "import numpy as np\n",
    "import matplotlib.pyplot as plt\n",
    "from sklearn import preprocessing, model_selection\n",
    "from sklearn.preprocessing import StandardScaler"
   ]
  },
  {
   "cell_type": "code",
   "execution_count": 3,
   "metadata": {},
   "outputs": [],
   "source": [
    "features = pd.read_pickle('Liar-Liar-FS-nodup.pkl')\n",
    "features.fillna(0,inplace=True)"
   ]
  },
  {
   "cell_type": "code",
   "execution_count": 4,
   "metadata": {},
   "outputs": [
    {
     "data": {
      "text/plain": [
       "['Statement ID',\n",
       " 'Label',\n",
       " 'Statement',\n",
       " 'Subject(s)',\n",
       " 'Speaker',\n",
       " 'Speakers Job Title',\n",
       " 'State Info.',\n",
       " 'Party Affiliation',\n",
       " 'Barely True Counts',\n",
       " 'False Counts',\n",
       " 'Half True Counts',\n",
       " 'Mostly True Counts',\n",
       " 'Pants on fire counts',\n",
       " 'Context',\n",
       " 'Grammatical errors',\n",
       " 'pos_tag',\n",
       " 'clean_text',\n",
       " 'TF',\n",
       " 'TF_final',\n",
       " 'out_of_context_terms',\n",
       " 'out_context_final',\n",
       " 'Textrazor_category',\n",
       " 'Textrazor_topic',\n",
       " 'Topics_category',\n",
       " 'Topics_topic',\n",
       " 'score_category',\n",
       " 'score_topic',\n",
       " 'category_score_final',\n",
       " 'category_list_final',\n",
       " 'topic_score_final',\n",
       " 'topic_list_final',\n",
       " 'formula 1',\n",
       " 'formula 2',\n",
       " 'bigram TF',\n",
       " 'bigram TF final',\n",
       " 'No. of stop_words',\n",
       " 'arts, culture and entertainment',\n",
       " 'Conspiracy',\n",
       " 'crime, law and justice',\n",
       " 'Criticism of journalism',\n",
       " 'Advertising video on demand',\n",
       " 'computing and information technology',\n",
       " 'agriculture',\n",
       " 'energy and resource',\n",
       " 'economy, business and finance',\n",
       " 'Harassment',\n",
       " 'Cyberspace',\n",
       " 'religion and belief',\n",
       " 'Politics and technology',\n",
       " 'Social media',\n",
       " 'science and technology',\n",
       " 'Social epistemology',\n",
       " 'social issue',\n",
       " 'environmental issue',\n",
       " 'Academia',\n",
       " 'Attacks',\n",
       " 'Feminism',\n",
       " 'Sports',\n",
       " 'Internet-Cyberspace',\n",
       " 'Science',\n",
       " 'Sixltr',\n",
       " 'conj',\n",
       " 'interrog',\n",
       " 'number',\n",
       " 'negemo',\n",
       " 'social',\n",
       " 'certain',\n",
       " 'percept',\n",
       " 'focuspast',\n",
       " 'focuspresent',\n",
       " 'time',\n",
       " 'Arts, Culture, Entertainment, Sports',\n",
       " 'Business and Industrial',\n",
       " 'Law, Government and Politics',\n",
       " 'religion & social epistemology',\n",
       " 'ORG',\n",
       " 'ORDINAL',\n",
       " 'PERSON',\n",
       " 'GPE',\n",
       " 'DATE',\n",
       " 'EVENT',\n",
       " 'MONEY',\n",
       " 'FAC',\n",
       " 'NORP',\n",
       " 'CARDINAL',\n",
       " 'LAW',\n",
       " 'PERCENT',\n",
       " 'TIME',\n",
       " 'LOC',\n",
       " 'PRODUCT',\n",
       " 'QUANTITY',\n",
       " 'WORK_OF_ART',\n",
       " 'LANGUAGE']"
      ]
     },
     "execution_count": 4,
     "metadata": {},
     "output_type": "execute_result"
    }
   ],
   "source": [
    "df= pd.read_pickle('Liar-Liar-dup.pkl')\n",
    "list(df.columns)"
   ]
  },
  {
   "cell_type": "code",
   "execution_count": 12,
   "metadata": {},
   "outputs": [],
   "source": [
    "# features.drop(columns=['Unnamed: 0'], inplace=True)"
   ]
  },
  {
   "cell_type": "code",
   "execution_count": 5,
   "metadata": {},
   "outputs": [
    {
     "name": "stdout",
     "output_type": "stream",
     "text": [
      "<class 'pandas.core.frame.DataFrame'>\n",
      "RangeIndex: 10223 entries, 0 to 10222\n",
      "Data columns (total 28 columns):\n",
      "TF                                      10223 non-null float64\n",
      "Bigram TF                               10223 non-null float64\n",
      "No. of Stop_words                       10223 non-null float64\n",
      "Out of Context                          10223 non-null float64\n",
      "Arts, Culture, Entertainment, Sports    10223 non-null float64\n",
      "Conspiracy                              10223 non-null float64\n",
      "Business and Industrial                 10223 non-null float64\n",
      "economy, business and finance           10223 non-null float64\n",
      "Religion and belief                     10223 non-null float64\n",
      "Law, Government and Politics            10223 non-null float64\n",
      "Education                               10223 non-null float64\n",
      "Technology and Computing                10223 non-null float64\n",
      "Science                                 10223 non-null float64\n",
      "Sixltr                                  10223 non-null float64\n",
      "conj                                    10223 non-null float64\n",
      "interrog                                10223 non-null float64\n",
      "number                                  10223 non-null float64\n",
      "negemo                                  10223 non-null float64\n",
      "social                                  10223 non-null float64\n",
      "certain                                 10223 non-null float64\n",
      "percept                                 10223 non-null float64\n",
      "focuspast                               10223 non-null float64\n",
      "focuspresent                            10223 non-null float64\n",
      "time                                    10223 non-null float64\n",
      "PERSON                                  10223 non-null float64\n",
      "ORG                                     10223 non-null float64\n",
      "TIME                                    10223 non-null float64\n",
      "GPE                                     10223 non-null float64\n",
      "dtypes: float64(28)\n",
      "memory usage: 2.2 MB\n"
     ]
    }
   ],
   "source": [
    "features.info()"
   ]
  },
  {
   "cell_type": "code",
   "execution_count": 6,
   "metadata": {},
   "outputs": [],
   "source": [
    "X=features.iloc[:,:].values"
   ]
  },
  {
   "cell_type": "code",
   "execution_count": 17,
   "metadata": {},
   "outputs": [],
   "source": [
    "#creating the dependant variable y\n",
    "y= df.loc[:,['Label']]\n",
    "#mapping the labels to respective numeric terms\n",
    "dict = {'FALSE' : 0, 'TRUE' : 1, 'pants-fire' : 0, 'half-true': 1, 'mostly-true':1, 'barely-true': 0}\n",
    "y=y.replace({\"Label\": dict})"
   ]
  },
  {
   "cell_type": "code",
   "execution_count": 18,
   "metadata": {},
   "outputs": [
    {
     "data": {
      "text/html": [
       "<div>\n",
       "<style scoped>\n",
       "    .dataframe tbody tr th:only-of-type {\n",
       "        vertical-align: middle;\n",
       "    }\n",
       "\n",
       "    .dataframe tbody tr th {\n",
       "        vertical-align: top;\n",
       "    }\n",
       "\n",
       "    .dataframe thead th {\n",
       "        text-align: right;\n",
       "    }\n",
       "</style>\n",
       "<table border=\"1\" class=\"dataframe\">\n",
       "  <thead>\n",
       "    <tr style=\"text-align: right;\">\n",
       "      <th></th>\n",
       "      <th>Label</th>\n",
       "    </tr>\n",
       "  </thead>\n",
       "  <tbody>\n",
       "    <tr>\n",
       "      <td>0</td>\n",
       "      <td>0</td>\n",
       "    </tr>\n",
       "    <tr>\n",
       "      <td>1</td>\n",
       "      <td>1</td>\n",
       "    </tr>\n",
       "    <tr>\n",
       "      <td>2</td>\n",
       "      <td>1</td>\n",
       "    </tr>\n",
       "    <tr>\n",
       "      <td>3</td>\n",
       "      <td>0</td>\n",
       "    </tr>\n",
       "    <tr>\n",
       "      <td>4</td>\n",
       "      <td>1</td>\n",
       "    </tr>\n",
       "    <tr>\n",
       "      <td>...</td>\n",
       "      <td>...</td>\n",
       "    </tr>\n",
       "    <tr>\n",
       "      <td>10218</td>\n",
       "      <td>1</td>\n",
       "    </tr>\n",
       "    <tr>\n",
       "      <td>10219</td>\n",
       "      <td>1</td>\n",
       "    </tr>\n",
       "    <tr>\n",
       "      <td>10220</td>\n",
       "      <td>1</td>\n",
       "    </tr>\n",
       "    <tr>\n",
       "      <td>10221</td>\n",
       "      <td>0</td>\n",
       "    </tr>\n",
       "    <tr>\n",
       "      <td>10222</td>\n",
       "      <td>0</td>\n",
       "    </tr>\n",
       "  </tbody>\n",
       "</table>\n",
       "<p>10223 rows × 1 columns</p>\n",
       "</div>"
      ],
      "text/plain": [
       "       Label\n",
       "0          0\n",
       "1          1\n",
       "2          1\n",
       "3          0\n",
       "4          1\n",
       "...      ...\n",
       "10218      1\n",
       "10219      1\n",
       "10220      1\n",
       "10221      0\n",
       "10222      0\n",
       "\n",
       "[10223 rows x 1 columns]"
      ]
     },
     "execution_count": 18,
     "metadata": {},
     "output_type": "execute_result"
    }
   ],
   "source": [
    "y"
   ]
  },
  {
   "cell_type": "code",
   "execution_count": 19,
   "metadata": {},
   "outputs": [],
   "source": [
    "y=y.iloc[:,0].values"
   ]
  },
  {
   "cell_type": "code",
   "execution_count": 20,
   "metadata": {},
   "outputs": [
    {
     "data": {
      "text/plain": [
       "10223"
      ]
     },
     "execution_count": 20,
     "metadata": {},
     "output_type": "execute_result"
    }
   ],
   "source": [
    "len(X)"
   ]
  },
  {
   "cell_type": "code",
   "execution_count": 21,
   "metadata": {},
   "outputs": [
    {
     "name": "stdout",
     "output_type": "stream",
     "text": [
      "<class 'numpy.ndarray'>\n",
      "<class 'numpy.ndarray'>\n"
     ]
    }
   ],
   "source": [
    "print(type(y))\n",
    "print(type(X))"
   ]
  },
  {
   "cell_type": "code",
   "execution_count": 22,
   "metadata": {},
   "outputs": [],
   "source": [
    "train_x, test_x, train_y, test_y = model_selection.train_test_split(X,y,test_size = 0.2, random_state = 0)"
   ]
  },
  {
   "cell_type": "code",
   "execution_count": 23,
   "metadata": {},
   "outputs": [],
   "source": [
    "from sklearn.preprocessing import StandardScaler\n",
    "sc = StandardScaler()\n",
    "train_x = sc.fit_transform(train_x)\n",
    "test_x = sc.transform(test_x)"
   ]
  },
  {
   "cell_type": "code",
   "execution_count": 24,
   "metadata": {},
   "outputs": [
    {
     "data": {
      "text/plain": [
       "8178"
      ]
     },
     "execution_count": 24,
     "metadata": {},
     "output_type": "execute_result"
    }
   ],
   "source": [
    "len(train_y)"
   ]
  },
  {
   "cell_type": "code",
   "execution_count": 66,
   "metadata": {},
   "outputs": [],
   "source": [
    "input_dim = len(features.columns) \n",
    "\n",
    "from keras.optimizers import SGD\n",
    "model = Sequential()\n",
    "model.add(Dense(32, input_dim = input_dim ,kernel_initializer='he_uniform', bias_initializer='zeros', activation='relu'))\n",
    "model.add(Dense(32,kernel_initializer='he_uniform', bias_initializer='zeros', activation='relu'))\n",
    "model.add(Dense(8,kernel_initializer='he_uniform', bias_initializer='zeros', activation = 'relu'))\n",
    "# model.add(Dense(10, activation = 'relu'))\n",
    "model.add(Dense(1, activation='sigmoid'))\n",
    "model.compile(loss='binary_crossentropy', optimizer=SGD(lr=0.005), metrics=['accuracy'])"
   ]
  },
  {
   "cell_type": "code",
   "execution_count": 67,
   "metadata": {},
   "outputs": [
    {
     "name": "stdout",
     "output_type": "stream",
     "text": [
      "Epoch 1/35\n",
      "8178/8178 [==============================] - 1s 62us/step - loss: 0.7166 - accuracy: 0.5353\n",
      "Epoch 2/35\n",
      "8178/8178 [==============================] - 0s 39us/step - loss: 0.6925 - accuracy: 0.5462\n",
      "Epoch 3/35\n",
      "8178/8178 [==============================] - 0s 38us/step - loss: 0.6860 - accuracy: 0.5600\n",
      "Epoch 4/35\n",
      "8178/8178 [==============================] - 0s 40us/step - loss: 0.6821 - accuracy: 0.5674\n",
      "Epoch 5/35\n",
      "8178/8178 [==============================] - 0s 40us/step - loss: 0.6792 - accuracy: 0.5725\n",
      "Epoch 6/35\n",
      "8178/8178 [==============================] - 0s 40us/step - loss: 0.6768 - accuracy: 0.5751\n",
      "Epoch 7/35\n",
      "8178/8178 [==============================] - 0s 39us/step - loss: 0.6748 - accuracy: 0.5773\n",
      "Epoch 8/35\n",
      "8178/8178 [==============================] - 0s 39us/step - loss: 0.6732 - accuracy: 0.5825\n",
      "Epoch 9/35\n",
      "8178/8178 [==============================] - 0s 41us/step - loss: 0.6717 - accuracy: 0.5845\n",
      "Epoch 10/35\n",
      "8178/8178 [==============================] - 0s 41us/step - loss: 0.6704 - accuracy: 0.5852\n",
      "Epoch 11/35\n",
      "8178/8178 [==============================] - 0s 42us/step - loss: 0.6692 - accuracy: 0.5865\n",
      "Epoch 12/35\n",
      "8178/8178 [==============================] - 0s 43us/step - loss: 0.6682 - accuracy: 0.5891\n",
      "Epoch 13/35\n",
      "8178/8178 [==============================] - 0s 42us/step - loss: 0.6673 - accuracy: 0.5904\n",
      "Epoch 14/35\n",
      "8178/8178 [==============================] - 0s 37us/step - loss: 0.6664 - accuracy: 0.5906\n",
      "Epoch 15/35\n",
      "8178/8178 [==============================] - 0s 42us/step - loss: 0.6656 - accuracy: 0.5933\n",
      "Epoch 16/35\n",
      "8178/8178 [==============================] - 0s 40us/step - loss: 0.6647 - accuracy: 0.5940\n",
      "Epoch 17/35\n",
      "8178/8178 [==============================] - 0s 42us/step - loss: 0.6640 - accuracy: 0.5931\n",
      "Epoch 18/35\n",
      "8178/8178 [==============================] - 0s 42us/step - loss: 0.6633 - accuracy: 0.5951\n",
      "Epoch 19/35\n",
      "8178/8178 [==============================] - 0s 37us/step - loss: 0.6627 - accuracy: 0.5960\n",
      "Epoch 20/35\n",
      "8178/8178 [==============================] - 0s 42us/step - loss: 0.6621 - accuracy: 0.5990\n",
      "Epoch 21/35\n",
      "8178/8178 [==============================] - 0s 37us/step - loss: 0.6615 - accuracy: 0.5981\n",
      "Epoch 22/35\n",
      "8178/8178 [==============================] - 0s 37us/step - loss: 0.6608 - accuracy: 0.5987\n",
      "Epoch 23/35\n",
      "8178/8178 [==============================] - 0s 39us/step - loss: 0.6602 - accuracy: 0.6014\n",
      "Epoch 24/35\n",
      "8178/8178 [==============================] - 0s 37us/step - loss: 0.6596 - accuracy: 0.6016\n",
      "Epoch 25/35\n",
      "8178/8178 [==============================] - 0s 39us/step - loss: 0.6592 - accuracy: 0.6022\n",
      "Epoch 26/35\n",
      "8178/8178 [==============================] - ETA: 0s - loss: 0.6573 - accuracy: 0.60 - 0s 37us/step - loss: 0.6586 - accuracy: 0.6031\n",
      "Epoch 27/35\n",
      "8178/8178 [==============================] - 0s 42us/step - loss: 0.6581 - accuracy: 0.6027\n",
      "Epoch 28/35\n",
      "8178/8178 [==============================] - 0s 50us/step - loss: 0.6576 - accuracy: 0.6065\n",
      "Epoch 29/35\n",
      "8178/8178 [==============================] - 0s 49us/step - loss: 0.6571 - accuracy: 0.6087\n",
      "Epoch 30/35\n",
      "8178/8178 [==============================] - 0s 46us/step - loss: 0.6566 - accuracy: 0.6077\n",
      "Epoch 31/35\n",
      "8178/8178 [==============================] - 0s 37us/step - loss: 0.6561 - accuracy: 0.6080\n",
      "Epoch 32/35\n",
      "8178/8178 [==============================] - 0s 38us/step - loss: 0.6556 - accuracy: 0.6085\n",
      "Epoch 33/35\n",
      "8178/8178 [==============================] - 0s 38us/step - loss: 0.6552 - accuracy: 0.6099\n",
      "Epoch 34/35\n",
      "8178/8178 [==============================] - 0s 38us/step - loss: 0.6547 - accuracy: 0.6093\n",
      "Epoch 35/35\n",
      "8178/8178 [==============================] - 0s 38us/step - loss: 0.6542 - accuracy: 0.6108\n"
     ]
    },
    {
     "data": {
      "text/plain": [
       "<keras.callbacks.callbacks.History at 0x2a855ec3438>"
      ]
     },
     "execution_count": 67,
     "metadata": {},
     "output_type": "execute_result"
    }
   ],
   "source": [
    "model.fit(train_x, train_y, epochs = 35, batch_size = 24, verbose=1)"
   ]
  },
  {
   "cell_type": "code",
   "execution_count": 68,
   "metadata": {},
   "outputs": [
    {
     "name": "stdout",
     "output_type": "stream",
     "text": [
      "2045/2045 [==============================] - 0s 55us/step\n",
      "\n",
      "accuracy: 55.99%\n"
     ]
    }
   ],
   "source": [
    "scores = model.evaluate(test_x, test_y)\n",
    "print(\"\\n%s: %.2f%%\" % (model.metrics_names[1], scores[1]*100))"
   ]
  },
  {
   "cell_type": "code",
   "execution_count": 69,
   "metadata": {},
   "outputs": [],
   "source": [
    "y_pred= model.predict(test_x)"
   ]
  },
  {
   "cell_type": "code",
   "execution_count": 70,
   "metadata": {},
   "outputs": [],
   "source": [
    "y_pred = (y_pred > 0.5)"
   ]
  },
  {
   "cell_type": "code",
   "execution_count": 71,
   "metadata": {},
   "outputs": [
    {
     "name": "stdout",
     "output_type": "stream",
     "text": [
      "Confusion matrix: \n",
      "[[320 588]\n",
      " [312 825]]\n"
     ]
    }
   ],
   "source": [
    "from sklearn.metrics import confusion_matrix\n",
    "cm = confusion_matrix(test_y, y_pred)\n",
    "\n",
    "print(\"Confusion matrix: \")\n",
    "print(cm)"
   ]
  },
  {
   "cell_type": "code",
   "execution_count": null,
   "metadata": {},
   "outputs": [],
   "source": []
  },
  {
   "cell_type": "code",
   "execution_count": null,
   "metadata": {},
   "outputs": [],
   "source": []
  }
 ],
 "metadata": {
  "kernelspec": {
   "display_name": "ANZ",
   "language": "python",
   "name": "anz"
  },
  "language_info": {
   "codemirror_mode": {
    "name": "ipython",
    "version": 3
   },
   "file_extension": ".py",
   "mimetype": "text/x-python",
   "name": "python",
   "nbconvert_exporter": "python",
   "pygments_lexer": "ipython3",
   "version": "3.6.9"
  }
 },
 "nbformat": 4,
 "nbformat_minor": 4
}
