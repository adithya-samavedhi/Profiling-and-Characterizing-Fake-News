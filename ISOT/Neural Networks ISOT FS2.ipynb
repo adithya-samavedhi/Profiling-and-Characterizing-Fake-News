{
 "cells": [
  {
   "cell_type": "code",
   "execution_count": 1,
   "metadata": {},
   "outputs": [
    {
     "name": "stderr",
     "output_type": "stream",
     "text": [
      "C:\\Users\\adith\\anaconda3\\envs\\ANZ\\lib\\site-packages\\h5py\\__init__.py:34: FutureWarning: Conversion of the second argument of issubdtype from `float` to `np.floating` is deprecated. In future, it will be treated as `np.float64 == np.dtype(float).type`.\n",
      "  from ._conv import register_converters as _register_converters\n",
      "Using TensorFlow backend.\n"
     ]
    }
   ],
   "source": [
    "from keras.models import Sequential \n",
    "from keras.layers import Dense \n",
    "from keras.utils import np_utils\n",
    "from sklearn.preprocessing import LabelEncoder\n",
    "from keras.utils.np_utils import to_categorical\n",
    "from sklearn.utils import shuffle\n",
    "import pandas as pd\n",
    "import numpy as np\n",
    "import matplotlib.pyplot as plt\n",
    "from sklearn import preprocessing, model_selection\n",
    "from sklearn.preprocessing import StandardScaler"
   ]
  },
  {
   "cell_type": "code",
   "execution_count": 2,
   "metadata": {},
   "outputs": [
    {
     "data": {
      "text/plain": [
       "['Unnamed: 0',\n",
       " 'TF',\n",
       " 'Bigram TF',\n",
       " 'No. of Stop_words',\n",
       " 'Out of Context',\n",
       " 'Arts, Culture, Entertainment, Sports',\n",
       " 'Conspiracy',\n",
       " 'Business and Industrial',\n",
       " 'economy, business and finance',\n",
       " 'Religion and belief',\n",
       " 'Law, Government and Politics',\n",
       " 'Education',\n",
       " 'Technology and Computing',\n",
       " 'Science',\n",
       " 'Sixltr',\n",
       " 'conj',\n",
       " 'interrog',\n",
       " 'number',\n",
       " 'negemo',\n",
       " 'social',\n",
       " 'certain',\n",
       " 'percept',\n",
       " 'focuspast',\n",
       " 'focuspresent',\n",
       " 'time',\n",
       " 'PERSON',\n",
       " 'ORG',\n",
       " 'GPE',\n",
       " 'TIME']"
      ]
     },
     "execution_count": 2,
     "metadata": {},
     "output_type": "execute_result"
    }
   ],
   "source": [
    "features = pd.read_csv('C:/Users/adith/Downloads/python/isot-ner.csv')\n",
    "list(features.columns)"
   ]
  },
  {
   "cell_type": "code",
   "execution_count": 3,
   "metadata": {},
   "outputs": [
    {
     "data": {
      "text/plain": [
       "['index',\n",
       " 'title',\n",
       " 'text',\n",
       " 'subject',\n",
       " 'date',\n",
       " 'Label',\n",
       " 'Clean_text',\n",
       " 'TF_temp',\n",
       " 'TF',\n",
       " 'Bigram TF_temp',\n",
       " 'Bigram TF',\n",
       " 'No. of Stop_words',\n",
       " 'Out of Context temp',\n",
       " 'Out of Context',\n",
       " 'bigram TF_temp',\n",
       " 'bigram TF',\n",
       " 'Textrazor_category',\n",
       " 'Textrazor_topic',\n",
       " 'Topics_category',\n",
       " 'Topics_topic',\n",
       " 'score_category',\n",
       " 'score_topic',\n",
       " 'topic_score_final',\n",
       " 'topic_list_final',\n",
       " 'bigram TF final',\n",
       " 'arts, culture and entertainment',\n",
       " 'Conspiracy',\n",
       " 'crime, law and justice',\n",
       " 'Criticism of journalism',\n",
       " 'Advertising video on demand',\n",
       " 'computing and information technology',\n",
       " 'agriculture',\n",
       " 'energy and resource',\n",
       " 'economy, business and finance',\n",
       " 'Harassment',\n",
       " 'Cyberspace',\n",
       " 'religion and belief',\n",
       " 'Politics and technology',\n",
       " 'Social media',\n",
       " 'science and technology',\n",
       " 'Social epistemology',\n",
       " 'social issue',\n",
       " 'environmental issue',\n",
       " 'Academia',\n",
       " 'Attacks',\n",
       " 'Feminism',\n",
       " 'Sports',\n",
       " 'Internet-Cyberspace',\n",
       " 'Science',\n",
       " 'Sixltr',\n",
       " 'conj',\n",
       " 'interrog',\n",
       " 'number',\n",
       " 'negemo',\n",
       " 'social',\n",
       " 'certain',\n",
       " 'percept',\n",
       " 'focuspast',\n",
       " 'focuspresent',\n",
       " 'time',\n",
       " 'Arts, Culture, Entertainment, Sports',\n",
       " 'Business and Industrial',\n",
       " 'Law, Government and Politics',\n",
       " 'religion & social epistemology']"
      ]
     },
     "execution_count": 3,
     "metadata": {},
     "output_type": "execute_result"
    }
   ],
   "source": [
    "df= pd.read_pickle('ISOT-dup.pkl')\n",
    "list(df.columns)"
   ]
  },
  {
   "cell_type": "code",
   "execution_count": 4,
   "metadata": {},
   "outputs": [],
   "source": [
    "features.drop(columns=['Unnamed: 0'], inplace=True)"
   ]
  },
  {
   "cell_type": "code",
   "execution_count": 5,
   "metadata": {},
   "outputs": [
    {
     "name": "stdout",
     "output_type": "stream",
     "text": [
      "<class 'pandas.core.frame.DataFrame'>\n",
      "RangeIndex: 38514 entries, 0 to 38513\n",
      "Data columns (total 28 columns):\n",
      "TF                                      38514 non-null int64\n",
      "Bigram TF                               38514 non-null float64\n",
      "No. of Stop_words                       38514 non-null float64\n",
      "Out of Context                          38514 non-null int64\n",
      "Arts, Culture, Entertainment, Sports    38514 non-null float64\n",
      "Conspiracy                              38514 non-null float64\n",
      "Business and Industrial                 38514 non-null float64\n",
      "economy, business and finance           38514 non-null float64\n",
      "Religion and belief                     38514 non-null float64\n",
      "Law, Government and Politics            38514 non-null float64\n",
      "Education                               38514 non-null float64\n",
      "Technology and Computing                38514 non-null float64\n",
      "Science                                 38514 non-null float64\n",
      "Sixltr                                  38514 non-null float64\n",
      "conj                                    38514 non-null float64\n",
      "interrog                                38514 non-null float64\n",
      "number                                  38514 non-null float64\n",
      "negemo                                  38514 non-null float64\n",
      "social                                  38514 non-null float64\n",
      "certain                                 38514 non-null float64\n",
      "percept                                 38514 non-null float64\n",
      "focuspast                               38514 non-null float64\n",
      "focuspresent                            38514 non-null float64\n",
      "time                                    38514 non-null float64\n",
      "PERSON                                  38514 non-null float64\n",
      "ORG                                     38514 non-null float64\n",
      "GPE                                     38514 non-null float64\n",
      "TIME                                    38514 non-null float64\n",
      "dtypes: float64(26), int64(2)\n",
      "memory usage: 8.2 MB\n"
     ]
    }
   ],
   "source": [
    "features.info()"
   ]
  },
  {
   "cell_type": "code",
   "execution_count": 6,
   "metadata": {},
   "outputs": [],
   "source": [
    "X=features.loc[:,['TF','Bigram TF','No. of Stop_words', 'Out of Context', 'Religion and belief', 'Law, Government and Politics',\n",
    " 'Sixltr', 'conj', 'interrog', 'number', 'negemo', 'social', 'certain', 'percept', 'focuspast', 'focuspresent', 'time','PERSON','ORG','TIME','GPE']]"
   ]
  },
  {
   "cell_type": "code",
   "execution_count": 7,
   "metadata": {},
   "outputs": [],
   "source": [
    "#creating the dependant variable y\n",
    "y= df.loc[:,['Label']]"
   ]
  },
  {
   "cell_type": "code",
   "execution_count": 8,
   "metadata": {},
   "outputs": [],
   "source": [
    "y=y.iloc[:,0].values"
   ]
  },
  {
   "cell_type": "code",
   "execution_count": 9,
   "metadata": {},
   "outputs": [
    {
     "data": {
      "text/plain": [
       "38514"
      ]
     },
     "execution_count": 9,
     "metadata": {},
     "output_type": "execute_result"
    }
   ],
   "source": [
    "len(X)"
   ]
  },
  {
   "cell_type": "code",
   "execution_count": 10,
   "metadata": {},
   "outputs": [
    {
     "name": "stdout",
     "output_type": "stream",
     "text": [
      "<class 'numpy.ndarray'>\n",
      "<class 'pandas.core.frame.DataFrame'>\n"
     ]
    }
   ],
   "source": [
    "print(type(y))\n",
    "print(type(X))"
   ]
  },
  {
   "cell_type": "code",
   "execution_count": 11,
   "metadata": {},
   "outputs": [],
   "source": [
    "train_x, test_x, train_y, test_y = model_selection.train_test_split(X,y,test_size = 0.2, random_state = 0)"
   ]
  },
  {
   "cell_type": "code",
   "execution_count": 12,
   "metadata": {},
   "outputs": [],
   "source": [
    "from sklearn.preprocessing import StandardScaler\n",
    "sc = StandardScaler()\n",
    "train_x = sc.fit_transform(train_x)\n",
    "test_x = sc.transform(test_x)"
   ]
  },
  {
   "cell_type": "code",
   "execution_count": 13,
   "metadata": {},
   "outputs": [
    {
     "data": {
      "text/plain": [
       "30811"
      ]
     },
     "execution_count": 13,
     "metadata": {},
     "output_type": "execute_result"
    }
   ],
   "source": [
    "len(train_y)"
   ]
  },
  {
   "cell_type": "code",
   "execution_count": 20,
   "metadata": {},
   "outputs": [],
   "source": [
    "input_dim = 21\n",
    "from keras.optimizers import SGD\n",
    "model = Sequential()\n",
    "model.add(Dense(32, input_dim = input_dim ,kernel_initializer='he_uniform', bias_initializer='zeros', activation='relu'))\n",
    "model.add(Dense(32,kernel_initializer='he_uniform', bias_initializer='zeros', activation='relu'))\n",
    "model.add(Dense(8,kernel_initializer='he_uniform', bias_initializer='zeros', activation = 'relu'))\n",
    "# model.add(Dense(10, activation = 'relu'))\n",
    "model.add(Dense(1, activation='sigmoid'))\n",
    "model.compile(loss='binary_crossentropy', optimizer=SGD(lr=0.005), metrics=['accuracy'])"
   ]
  },
  {
   "cell_type": "code",
   "execution_count": 21,
   "metadata": {},
   "outputs": [
    {
     "name": "stdout",
     "output_type": "stream",
     "text": [
      "Epoch 1/70\n",
      "30811/30811 [==============================] - 1s 31us/step - loss: 0.4699 - accuracy: 0.7817\n",
      "Epoch 2/70\n",
      "30811/30811 [==============================] - 1s 27us/step - loss: 0.3971 - accuracy: 0.8268\n",
      "Epoch 3/70\n",
      "30811/30811 [==============================] - 1s 26us/step - loss: 0.3693 - accuracy: 0.8427\n",
      "Epoch 4/70\n",
      "30811/30811 [==============================] - 1s 26us/step - loss: 0.3491 - accuracy: 0.8531\n",
      "Epoch 5/70\n",
      "30811/30811 [==============================] - 1s 25us/step - loss: 0.3331 - accuracy: 0.8610 0s - loss:\n",
      "Epoch 6/70\n",
      "30811/30811 [==============================] - 1s 27us/step - loss: 0.3191 - accuracy: 0.8691\n",
      "Epoch 7/70\n",
      "30811/30811 [==============================] - 1s 28us/step - loss: 0.3071 - accuracy: 0.8744\n",
      "Epoch 8/70\n",
      "30811/30811 [==============================] - 1s 27us/step - loss: 0.2968 - accuracy: 0.8789\n",
      "Epoch 9/70\n",
      "30811/30811 [==============================] - 1s 27us/step - loss: 0.2874 - accuracy: 0.8831\n",
      "Epoch 10/70\n",
      "30811/30811 [==============================] - 1s 27us/step - loss: 0.2795 - accuracy: 0.8869\n",
      "Epoch 11/70\n",
      "30811/30811 [==============================] - 1s 27us/step - loss: 0.2723 - accuracy: 0.8908\n",
      "Epoch 12/70\n",
      "30811/30811 [==============================] - 1s 27us/step - loss: 0.2662 - accuracy: 0.8940\n",
      "Epoch 13/70\n",
      "30811/30811 [==============================] - 1s 27us/step - loss: 0.2601 - accuracy: 0.8968\n",
      "Epoch 14/70\n",
      "30811/30811 [==============================] - 1s 27us/step - loss: 0.2550 - accuracy: 0.8988\n",
      "Epoch 15/70\n",
      "30811/30811 [==============================] - 1s 27us/step - loss: 0.2500 - accuracy: 0.9020\n",
      "Epoch 16/70\n",
      "30811/30811 [==============================] - 1s 25us/step - loss: 0.2456 - accuracy: 0.9031\n",
      "Epoch 17/70\n",
      "30811/30811 [==============================] - 1s 23us/step - loss: 0.2418 - accuracy: 0.9048\n",
      "Epoch 18/70\n",
      "30811/30811 [==============================] - 1s 25us/step - loss: 0.2387 - accuracy: 0.9068\n",
      "Epoch 19/70\n",
      "30811/30811 [==============================] - 1s 24us/step - loss: 0.2358 - accuracy: 0.9082\n",
      "Epoch 20/70\n",
      "30811/30811 [==============================] - 1s 25us/step - loss: 0.2332 - accuracy: 0.9091\n",
      "Epoch 21/70\n",
      "30811/30811 [==============================] - 1s 24us/step - loss: 0.2306 - accuracy: 0.9101\n",
      "Epoch 22/70\n",
      "30811/30811 [==============================] - 1s 26us/step - loss: 0.2281 - accuracy: 0.9115\n",
      "Epoch 23/70\n",
      "30811/30811 [==============================] - 1s 26us/step - loss: 0.2265 - accuracy: 0.9118\n",
      "Epoch 24/70\n",
      "30811/30811 [==============================] - 1s 27us/step - loss: 0.2247 - accuracy: 0.9129\n",
      "Epoch 25/70\n",
      "30811/30811 [==============================] - 1s 26us/step - loss: 0.2226 - accuracy: 0.9134\n",
      "Epoch 26/70\n",
      "30811/30811 [==============================] - 1s 25us/step - loss: 0.2208 - accuracy: 0.9143\n",
      "Epoch 27/70\n",
      "30811/30811 [==============================] - 1s 25us/step - loss: 0.2193 - accuracy: 0.9154\n",
      "Epoch 28/70\n",
      "30811/30811 [==============================] - 1s 25us/step - loss: 0.2179 - accuracy: 0.9153\n",
      "Epoch 29/70\n",
      "30811/30811 [==============================] - 1s 25us/step - loss: 0.2163 - accuracy: 0.9166\n",
      "Epoch 30/70\n",
      "30811/30811 [==============================] - 1s 28us/step - loss: 0.2150 - accuracy: 0.9177\n",
      "Epoch 31/70\n",
      "30811/30811 [==============================] - 1s 27us/step - loss: 0.2136 - accuracy: 0.9172\n",
      "Epoch 32/70\n",
      "30811/30811 [==============================] - 1s 27us/step - loss: 0.2123 - accuracy: 0.9187\n",
      "Epoch 33/70\n",
      "30811/30811 [==============================] - 1s 28us/step - loss: 0.2112 - accuracy: 0.9186\n",
      "Epoch 34/70\n",
      "30811/30811 [==============================] - 1s 26us/step - loss: 0.2098 - accuracy: 0.9191\n",
      "Epoch 35/70\n",
      "30811/30811 [==============================] - 1s 24us/step - loss: 0.2088 - accuracy: 0.9197\n",
      "Epoch 36/70\n",
      "30811/30811 [==============================] - 1s 26us/step - loss: 0.2078 - accuracy: 0.9206 0s - loss:\n",
      "Epoch 37/70\n",
      "30811/30811 [==============================] - 1s 25us/step - loss: 0.2065 - accuracy: 0.9203\n",
      "Epoch 38/70\n",
      "30811/30811 [==============================] - 1s 23us/step - loss: 0.2055 - accuracy: 0.9206\n",
      "Epoch 39/70\n",
      "30811/30811 [==============================] - 1s 24us/step - loss: 0.2043 - accuracy: 0.9216\n",
      "Epoch 40/70\n",
      "30811/30811 [==============================] - 1s 24us/step - loss: 0.2038 - accuracy: 0.9210\n",
      "Epoch 41/70\n",
      "30811/30811 [==============================] - 1s 23us/step - loss: 0.2027 - accuracy: 0.9222\n",
      "Epoch 42/70\n",
      "30811/30811 [==============================] - 1s 23us/step - loss: 0.2018 - accuracy: 0.9228\n",
      "Epoch 43/70\n",
      "30811/30811 [==============================] - 1s 25us/step - loss: 0.2008 - accuracy: 0.9232\n",
      "Epoch 44/70\n",
      "30811/30811 [==============================] - 1s 24us/step - loss: 0.2000 - accuracy: 0.9231\n",
      "Epoch 45/70\n",
      "30811/30811 [==============================] - 1s 24us/step - loss: 0.1992 - accuracy: 0.9240\n",
      "Epoch 46/70\n",
      "30811/30811 [==============================] - 1s 25us/step - loss: 0.1984 - accuracy: 0.9236\n",
      "Epoch 47/70\n",
      "30811/30811 [==============================] - 1s 25us/step - loss: 0.1975 - accuracy: 0.9244\n",
      "Epoch 48/70\n",
      "30811/30811 [==============================] - 1s 23us/step - loss: 0.1968 - accuracy: 0.9241\n",
      "Epoch 49/70\n",
      "30811/30811 [==============================] - 1s 23us/step - loss: 0.1959 - accuracy: 0.9243\n",
      "Epoch 50/70\n",
      "30811/30811 [==============================] - 1s 26us/step - loss: 0.1954 - accuracy: 0.9249\n",
      "Epoch 51/70\n",
      "30811/30811 [==============================] - 1s 26us/step - loss: 0.1947 - accuracy: 0.9252\n",
      "Epoch 52/70\n",
      "30811/30811 [==============================] - 1s 27us/step - loss: 0.1941 - accuracy: 0.9261\n",
      "Epoch 53/70\n",
      "30811/30811 [==============================] - 1s 29us/step - loss: 0.1934 - accuracy: 0.9266\n",
      "Epoch 54/70\n",
      "30811/30811 [==============================] - 1s 29us/step - loss: 0.1929 - accuracy: 0.9264\n",
      "Epoch 55/70\n",
      "30811/30811 [==============================] - 1s 28us/step - loss: 0.1921 - accuracy: 0.9271\n",
      "Epoch 56/70\n",
      "30811/30811 [==============================] - 1s 28us/step - loss: 0.1917 - accuracy: 0.9273\n",
      "Epoch 57/70\n",
      "30811/30811 [==============================] - 1s 30us/step - loss: 0.1911 - accuracy: 0.9274\n",
      "Epoch 58/70\n",
      "30811/30811 [==============================] - 1s 28us/step - loss: 0.1905 - accuracy: 0.9276\n",
      "Epoch 59/70\n",
      "30811/30811 [==============================] - 1s 27us/step - loss: 0.1901 - accuracy: 0.9273\n",
      "Epoch 60/70\n",
      "30811/30811 [==============================] - 1s 27us/step - loss: 0.1892 - accuracy: 0.9280\n",
      "Epoch 61/70\n",
      "30811/30811 [==============================] - 1s 27us/step - loss: 0.1888 - accuracy: 0.9281\n",
      "Epoch 62/70\n",
      "30811/30811 [==============================] - 1s 27us/step - loss: 0.1882 - accuracy: 0.9289\n",
      "Epoch 63/70\n",
      "30811/30811 [==============================] - 1s 27us/step - loss: 0.1879 - accuracy: 0.9289\n",
      "Epoch 64/70\n",
      "30811/30811 [==============================] - 1s 27us/step - loss: 0.1874 - accuracy: 0.9285\n",
      "Epoch 65/70\n",
      "30811/30811 [==============================] - 1s 27us/step - loss: 0.1868 - accuracy: 0.9285\n",
      "Epoch 66/70\n",
      "30811/30811 [==============================] - 1s 27us/step - loss: 0.1863 - accuracy: 0.9283\n",
      "Epoch 67/70\n",
      "30811/30811 [==============================] - 1s 28us/step - loss: 0.1857 - accuracy: 0.9289\n",
      "Epoch 68/70\n",
      "30811/30811 [==============================] - 1s 27us/step - loss: 0.1852 - accuracy: 0.9292\n",
      "Epoch 69/70\n",
      "30811/30811 [==============================] - 1s 29us/step - loss: 0.1846 - accuracy: 0.9291\n",
      "Epoch 70/70\n",
      "30811/30811 [==============================] - 1s 27us/step - loss: 0.1841 - accuracy: 0.9295\n"
     ]
    },
    {
     "data": {
      "text/plain": [
       "<keras.callbacks.callbacks.History at 0x16cb2a066d8>"
      ]
     },
     "execution_count": 21,
     "metadata": {},
     "output_type": "execute_result"
    }
   ],
   "source": [
    "model.fit(train_x, train_y, epochs = 70, batch_size = 32, verbose=1)"
   ]
  },
  {
   "cell_type": "code",
   "execution_count": 19,
   "metadata": {},
   "outputs": [
    {
     "name": "stdout",
     "output_type": "stream",
     "text": [
      "7703/7703 [==============================] - 0s 12us/step\n",
      "\n",
      "accuracy: 91.93%\n"
     ]
    }
   ],
   "source": [
    "scores = model.evaluate(test_x, test_y)\n",
    "print(\"\\n%s: %.2f%%\" % (model.metrics_names[1], scores[1]*100))"
   ]
  },
  {
   "cell_type": "code",
   "execution_count": 17,
   "metadata": {},
   "outputs": [
    {
     "name": "stdout",
     "output_type": "stream",
     "text": [
      "Confusion matrix: \n",
      "[[3074  397]\n",
      " [ 237 3995]]\n"
     ]
    }
   ],
   "source": [
    "y_pred= model.predict(test_x)\n",
    "\n",
    "y_pred = (y_pred > 0.5)\n",
    "\n",
    "from sklearn.metrics import confusion_matrix\n",
    "cm = confusion_matrix(test_y, y_pred)\n",
    "\n",
    "print(\"Confusion matrix: \")\n",
    "print(cm)"
   ]
  }
 ],
 "metadata": {
  "kernelspec": {
   "display_name": "ANZ",
   "language": "python",
   "name": "anz"
  },
  "language_info": {
   "codemirror_mode": {
    "name": "ipython",
    "version": 3
   },
   "file_extension": ".py",
   "mimetype": "text/x-python",
   "name": "python",
   "nbconvert_exporter": "python",
   "pygments_lexer": "ipython3",
   "version": "3.6.9"
  }
 },
 "nbformat": 4,
 "nbformat_minor": 4
}
